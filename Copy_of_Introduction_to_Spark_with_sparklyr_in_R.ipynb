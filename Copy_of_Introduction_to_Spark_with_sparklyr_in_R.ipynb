{
  "cells": [
    {
      "cell_type": "markdown",
      "metadata": {
        "id": "view-in-github",
        "colab_type": "text"
      },
      "source": [
        "<a href=\"https://colab.research.google.com/github/hoangvypy/DataCamp-Projects/blob/main/Copy_of_Introduction_to_Spark_with_sparklyr_in_R.ipynb\" target=\"_parent\"><img src=\"https://colab.research.google.com/assets/colab-badge.svg\" alt=\"Open In Colab\"/></a>"
      ]
    },
    {
      "cell_type": "markdown",
      "source": [
        "This notebook includes some notes and projects from my Datacamp course. In order to practicing along with the instruction, I created a local cluster on Colab notebook (referenced from Github, copilot, Genimi, and ChatGPT), and linked provided files from Google Drive."
      ],
      "metadata": {
        "id": "TtefzeiGunBG"
      }
    },
    {
      "cell_type": "markdown",
      "source": [
        "1. **Install rpy2 to allow R scripting, and required R packages**"
      ],
      "metadata": {
        "id": "avCW66rfv9tt"
      }
    },
    {
      "cell_type": "code",
      "execution_count": 3,
      "metadata": {
        "colab": {
          "base_uri": "https://localhost:8080/"
        },
        "id": "49_dguxFIQfC",
        "outputId": "9e14cb13-7217-4db6-f79c-06c7805399f0"
      },
      "outputs": [
        {
          "output_type": "stream",
          "name": "stdout",
          "text": [
            "Collecting rpy2==3.5.1\n",
            "  Downloading rpy2-3.5.1.tar.gz (201 kB)\n",
            "\u001b[?25l     \u001b[90m━━━━━━━━━━━━━━━━━━━━━━━━━━━━━━━━━━━━━━━━\u001b[0m \u001b[32m0.0/201.7 kB\u001b[0m \u001b[31m?\u001b[0m eta \u001b[36m-:--:--\u001b[0m\r\u001b[2K     \u001b[90m━━━━━━━━━━━━━━━━━━━━━━━━━━━━━━━━━━━━━━━━\u001b[0m \u001b[32m201.7/201.7 kB\u001b[0m \u001b[31m6.0 MB/s\u001b[0m eta \u001b[36m0:00:00\u001b[0m\n",
            "\u001b[?25h  Preparing metadata (setup.py) ... \u001b[?25l\u001b[?25hdone\n",
            "Requirement already satisfied: cffi>=1.10.0 in /usr/local/lib/python3.10/dist-packages (from rpy2==3.5.1) (1.17.1)\n",
            "Requirement already satisfied: jinja2 in /usr/local/lib/python3.10/dist-packages (from rpy2==3.5.1) (3.1.4)\n",
            "Requirement already satisfied: pytz in /usr/local/lib/python3.10/dist-packages (from rpy2==3.5.1) (2024.2)\n",
            "Requirement already satisfied: tzlocal in /usr/local/lib/python3.10/dist-packages (from rpy2==3.5.1) (5.2)\n",
            "Requirement already satisfied: pycparser in /usr/local/lib/python3.10/dist-packages (from cffi>=1.10.0->rpy2==3.5.1) (2.22)\n",
            "Requirement already satisfied: MarkupSafe>=2.0 in /usr/local/lib/python3.10/dist-packages (from jinja2->rpy2==3.5.1) (2.1.5)\n",
            "Building wheels for collected packages: rpy2\n",
            "  Building wheel for rpy2 (setup.py) ... \u001b[?25l\u001b[?25hdone\n",
            "  Created wheel for rpy2: filename=rpy2-3.5.1-cp310-cp310-linux_x86_64.whl size=314948 sha256=2cacf1dd053f46ee8eec31bccb79e0a61b4e39f456a38306651c8ab05b23105a\n",
            "  Stored in directory: /root/.cache/pip/wheels/73/a6/ff/4e75dd1ce1cfa2b9a670cbccf6a1e41c553199e9b25f05d953\n",
            "Successfully built rpy2\n",
            "Installing collected packages: rpy2\n",
            "  Attempting uninstall: rpy2\n",
            "    Found existing installation: rpy2 3.4.2\n",
            "    Uninstalling rpy2-3.4.2:\n",
            "      Successfully uninstalled rpy2-3.4.2\n",
            "Successfully installed rpy2-3.5.1\n"
          ]
        }
      ],
      "source": [
        "# Install rpy2: Use pip to install the rpy2 library, which allows Python to interface with R.\n",
        "%pip install rpy2==3.5.1"
      ]
    },
    {
      "cell_type": "code",
      "execution_count": 4,
      "metadata": {
        "id": "9MFKOi-VIfqx"
      },
      "outputs": [],
      "source": [
        "# Load R magic: Load the R magic extension to enable running R code directly within Colab cells.\n",
        "%load_ext rpy2.ipython"
      ]
    },
    {
      "cell_type": "code",
      "source": [
        "# Install and load the stringr package\n",
        "!pip install stringr # Install the stringr package\n"
      ],
      "metadata": {
        "colab": {
          "base_uri": "https://localhost:8080/",
          "height": 222
        },
        "id": "bnPsD2rd_7fm",
        "outputId": "6d5c194b-5650-47b2-d955-3dec99046398"
      },
      "execution_count": 34,
      "outputs": [
        {
          "output_type": "stream",
          "name": "stdout",
          "text": [
            "\u001b[31mERROR: Could not find a version that satisfies the requirement stringr (from versions: none)\u001b[0m\u001b[31m\n",
            "\u001b[0m\u001b[31mERROR: No matching distribution found for stringr\u001b[0m\u001b[31m\n",
            "\u001b[0m"
          ]
        },
        {
          "output_type": "error",
          "ename": "NameError",
          "evalue": "name 'library' is not defined",
          "traceback": [
            "\u001b[0;31m---------------------------------------------------------------------------\u001b[0m",
            "\u001b[0;31mNameError\u001b[0m                                 Traceback (most recent call last)",
            "\u001b[0;32m<ipython-input-34-fc5c99c1f3df>\u001b[0m in \u001b[0;36m<cell line: 3>\u001b[0;34m()\u001b[0m\n\u001b[1;32m      1\u001b[0m \u001b[0;31m# Install and load the stringr package\u001b[0m\u001b[0;34m\u001b[0m\u001b[0;34m\u001b[0m\u001b[0m\n\u001b[1;32m      2\u001b[0m \u001b[0mget_ipython\u001b[0m\u001b[0;34m(\u001b[0m\u001b[0;34m)\u001b[0m\u001b[0;34m.\u001b[0m\u001b[0msystem\u001b[0m\u001b[0;34m(\u001b[0m\u001b[0;34m'pip install stringr # Install the stringr package'\u001b[0m\u001b[0;34m)\u001b[0m\u001b[0;34m\u001b[0m\u001b[0;34m\u001b[0m\u001b[0m\n\u001b[0;32m----> 3\u001b[0;31m \u001b[0mlibrary\u001b[0m\u001b[0;34m(\u001b[0m\u001b[0mstringr\u001b[0m\u001b[0;34m)\u001b[0m     \u001b[0;31m# Load the stringr package into the environment\u001b[0m\u001b[0;34m\u001b[0m\u001b[0;34m\u001b[0m\u001b[0m\n\u001b[0m",
            "\u001b[0;31mNameError\u001b[0m: name 'library' is not defined"
          ]
        }
      ]
    },
    {
      "cell_type": "code",
      "execution_count": 5,
      "metadata": {
        "id": "jfYNIZq3iNLv",
        "colab": {
          "base_uri": "https://localhost:8080/"
        },
        "outputId": "c5971657-666d-4ae3-e304-0b2968c32e22"
      },
      "outputs": [
        {
          "output_type": "stream",
          "name": "stdout",
          "text": [
            "Reading package lists... Done\n",
            "Building dependency tree... Done\n",
            "Reading state information... Done\n",
            "The following additional packages will be installed:\n",
            "  default-jre default-jre-headless fonts-dejavu-core fonts-dejavu-extra libatk-wrapper-java\n",
            "  libatk-wrapper-java-jni libfontenc1 libxkbfile1 libxtst6 libxxf86dga1 openjdk-11-jre x11-utils\n",
            "Suggested packages:\n",
            "  mesa-utils\n",
            "The following NEW packages will be installed:\n",
            "  default-jre default-jre-headless fonts-dejavu-core fonts-dejavu-extra libatk-wrapper-java\n",
            "  libatk-wrapper-java-jni libfontenc1 libxkbfile1 libxtst6 libxxf86dga1 openjdk-11-jre r-cran-rjava\n",
            "  x11-utils\n",
            "0 upgraded, 13 newly installed, 0 to remove and 49 not upgraded.\n",
            "Need to get 4,438 kB of archives.\n",
            "After this operation, 14.0 MB of additional disk space will be used.\n",
            "Get:1 http://archive.ubuntu.com/ubuntu jammy/main amd64 default-jre-headless amd64 2:1.11-72build2 [3,042 B]\n",
            "Get:2 http://archive.ubuntu.com/ubuntu jammy/main amd64 libxtst6 amd64 2:1.2.3-1build4 [13.4 kB]\n",
            "Get:3 http://archive.ubuntu.com/ubuntu jammy-updates/main amd64 openjdk-11-jre amd64 11.0.24+8-1ubuntu3~22.04 [214 kB]\n",
            "Get:4 https://r2u.stat.illinois.edu/ubuntu jammy/main amd64 r-cran-rjava amd64 1.0-11-1.ca2204.1 [718 kB]\n",
            "Get:5 http://archive.ubuntu.com/ubuntu jammy/main amd64 default-jre amd64 2:1.11-72build2 [896 B]\n",
            "Get:6 http://archive.ubuntu.com/ubuntu jammy/main amd64 fonts-dejavu-core all 2.37-2build1 [1,041 kB]\n",
            "Get:7 http://archive.ubuntu.com/ubuntu jammy/main amd64 fonts-dejavu-extra all 2.37-2build1 [2,041 kB]\n",
            "Get:8 http://archive.ubuntu.com/ubuntu jammy/main amd64 libfontenc1 amd64 1:1.1.4-1build3 [14.7 kB]\n",
            "Get:9 http://archive.ubuntu.com/ubuntu jammy/main amd64 libxkbfile1 amd64 1:1.1.0-1build3 [71.8 kB]\n",
            "Get:10 http://archive.ubuntu.com/ubuntu jammy/main amd64 libxxf86dga1 amd64 2:1.1.5-0ubuntu3 [12.6 kB]\n",
            "Get:11 http://archive.ubuntu.com/ubuntu jammy/main amd64 x11-utils amd64 7.7+5build2 [206 kB]\n",
            "Get:12 http://archive.ubuntu.com/ubuntu jammy/main amd64 libatk-wrapper-java all 0.38.0-5build1 [53.1 kB]\n",
            "Get:13 http://archive.ubuntu.com/ubuntu jammy/main amd64 libatk-wrapper-java-jni amd64 0.38.0-5build1 [49.0 kB]\n",
            "Fetched 4,438 kB in 1s (4,807 kB/s)\n",
            "Selecting previously unselected package default-jre-headless.\n",
            "(Reading database ... 123599 files and directories currently installed.)\n",
            "Preparing to unpack .../00-default-jre-headless_2%3a1.11-72build2_amd64.deb ...\n",
            "Unpacking default-jre-headless (2:1.11-72build2) ...\n",
            "Selecting previously unselected package libxtst6:amd64.\n",
            "Preparing to unpack .../01-libxtst6_2%3a1.2.3-1build4_amd64.deb ...\n",
            "Unpacking libxtst6:amd64 (2:1.2.3-1build4) ...\n",
            "Selecting previously unselected package openjdk-11-jre:amd64.\n",
            "Preparing to unpack .../02-openjdk-11-jre_11.0.24+8-1ubuntu3~22.04_amd64.deb ...\n",
            "Unpacking openjdk-11-jre:amd64 (11.0.24+8-1ubuntu3~22.04) ...\n",
            "Selecting previously unselected package default-jre.\n",
            "Preparing to unpack .../03-default-jre_2%3a1.11-72build2_amd64.deb ...\n",
            "Unpacking default-jre (2:1.11-72build2) ...\n",
            "Selecting previously unselected package fonts-dejavu-core.\n",
            "Preparing to unpack .../04-fonts-dejavu-core_2.37-2build1_all.deb ...\n",
            "Unpacking fonts-dejavu-core (2.37-2build1) ...\n",
            "Selecting previously unselected package fonts-dejavu-extra.\n",
            "Preparing to unpack .../05-fonts-dejavu-extra_2.37-2build1_all.deb ...\n",
            "Unpacking fonts-dejavu-extra (2.37-2build1) ...\n",
            "Selecting previously unselected package libfontenc1:amd64.\n",
            "Preparing to unpack .../06-libfontenc1_1%3a1.1.4-1build3_amd64.deb ...\n",
            "Unpacking libfontenc1:amd64 (1:1.1.4-1build3) ...\n",
            "Selecting previously unselected package libxkbfile1:amd64.\n",
            "Preparing to unpack .../07-libxkbfile1_1%3a1.1.0-1build3_amd64.deb ...\n",
            "Unpacking libxkbfile1:amd64 (1:1.1.0-1build3) ...\n",
            "Selecting previously unselected package libxxf86dga1:amd64.\n",
            "Preparing to unpack .../08-libxxf86dga1_2%3a1.1.5-0ubuntu3_amd64.deb ...\n",
            "Unpacking libxxf86dga1:amd64 (2:1.1.5-0ubuntu3) ...\n",
            "Selecting previously unselected package x11-utils.\n",
            "Preparing to unpack .../09-x11-utils_7.7+5build2_amd64.deb ...\n",
            "Unpacking x11-utils (7.7+5build2) ...\n",
            "Selecting previously unselected package libatk-wrapper-java.\n",
            "Preparing to unpack .../10-libatk-wrapper-java_0.38.0-5build1_all.deb ...\n",
            "Unpacking libatk-wrapper-java (0.38.0-5build1) ...\n",
            "Selecting previously unselected package libatk-wrapper-java-jni:amd64.\n",
            "Preparing to unpack .../11-libatk-wrapper-java-jni_0.38.0-5build1_amd64.deb ...\n",
            "Unpacking libatk-wrapper-java-jni:amd64 (0.38.0-5build1) ...\n",
            "Selecting previously unselected package r-cran-rjava.\n",
            "Preparing to unpack .../12-r-cran-rjava_1.0-11-1.ca2204.1_amd64.deb ...\n",
            "Unpacking r-cran-rjava (1.0-11-1.ca2204.1) ...\n",
            "Setting up default-jre-headless (2:1.11-72build2) ...\n",
            "Setting up libxtst6:amd64 (2:1.2.3-1build4) ...\n",
            "Setting up libxxf86dga1:amd64 (2:1.1.5-0ubuntu3) ...\n",
            "Setting up openjdk-11-jre:amd64 (11.0.24+8-1ubuntu3~22.04) ...\n",
            "Setting up default-jre (2:1.11-72build2) ...\n",
            "Setting up libfontenc1:amd64 (1:1.1.4-1build3) ...\n",
            "Setting up fonts-dejavu-core (2.37-2build1) ...\n",
            "Setting up r-cran-rjava (1.0-11-1.ca2204.1) ...\n",
            "Setting up fonts-dejavu-extra (2.37-2build1) ...\n",
            "Setting up libxkbfile1:amd64 (1:1.1.0-1build3) ...\n",
            "Setting up x11-utils (7.7+5build2) ...\n",
            "Setting up libatk-wrapper-java (0.38.0-5build1) ...\n",
            "Setting up libatk-wrapper-java-jni:amd64 (0.38.0-5build1) ...\n",
            "Processing triggers for hicolor-icon-theme (0.17-2) ...\n",
            "Processing triggers for libc-bin (2.35-0ubuntu3.4) ...\n",
            "/sbin/ldconfig.real: /usr/local/lib/libtbb.so.12 is not a symbolic link\n",
            "\n",
            "/sbin/ldconfig.real: /usr/local/lib/libur_loader.so.0 is not a symbolic link\n",
            "\n",
            "/sbin/ldconfig.real: /usr/local/lib/libur_adapter_opencl.so.0 is not a symbolic link\n",
            "\n",
            "/sbin/ldconfig.real: /usr/local/lib/libtbbbind_2_0.so.3 is not a symbolic link\n",
            "\n",
            "/sbin/ldconfig.real: /usr/local/lib/libur_adapter_level_zero.so.0 is not a symbolic link\n",
            "\n",
            "/sbin/ldconfig.real: /usr/local/lib/libtbbbind.so.3 is not a symbolic link\n",
            "\n",
            "/sbin/ldconfig.real: /usr/local/lib/libtbbbind_2_5.so.3 is not a symbolic link\n",
            "\n",
            "/sbin/ldconfig.real: /usr/local/lib/libtbbmalloc_proxy.so.2 is not a symbolic link\n",
            "\n",
            "/sbin/ldconfig.real: /usr/local/lib/libtbbmalloc.so.2 is not a symbolic link\n",
            "\n",
            "Processing triggers for man-db (2.10.2-1) ...\n",
            "Processing triggers for fontconfig (2.13.1-4.2ubuntu5) ...\n",
            "\n",
            "R version 4.4.1 (2024-06-14) -- \"Race for Your Life\"\n",
            "Copyright (C) 2024 The R Foundation for Statistical Computing\n",
            "Platform: x86_64-pc-linux-gnu\n",
            "\n",
            "R is free software and comes with ABSOLUTELY NO WARRANTY.\n",
            "You are welcome to redistribute it under certain conditions.\n",
            "Type 'license()' or 'licence()' for distribution details.\n",
            "\n",
            "  Natural language support but running in an English locale\n",
            "\n",
            "R is a collaborative project with many contributors.\n",
            "Type 'contributors()' for more information and\n",
            "'citation()' on how to cite R or R packages in publications.\n",
            "\n",
            "Type 'demo()' for some demos, 'help()' for on-line help, or\n",
            "'help.start()' for an HTML browser interface to help.\n",
            "Type 'q()' to quit R.\n",
            "\n",
            "> install.packages(c('sparklyr', 'dplyr'))\n",
            "Installing packages into ‘/usr/local/lib/R/site-library’\n",
            "(as ‘lib’ is unspecified)\n",
            "also installing the dependencies ‘config’, ‘globals’\n",
            "\n",
            "trying URL 'https://cran.rstudio.com/src/contrib/config_0.3.2.tar.gz'\n",
            "Content type 'application/x-gzip' length 83483 bytes (81 KB)\n",
            "==================================================\n",
            "downloaded 81 KB\n",
            "\n",
            "trying URL 'https://cran.rstudio.com/src/contrib/globals_0.16.3.tar.gz'\n",
            "Content type 'application/x-gzip' length 37475 bytes (36 KB)\n",
            "==================================================\n",
            "downloaded 36 KB\n",
            "\n",
            "trying URL 'https://cran.rstudio.com/src/contrib/sparklyr_1.8.6.tar.gz'\n",
            "Content type 'application/x-gzip' length 3211396 bytes (3.1 MB)\n",
            "==================================================\n",
            "downloaded 3.1 MB\n",
            "\n",
            "trying URL 'https://cran.rstudio.com/src/contrib/dplyr_1.1.4.tar.gz'\n",
            "Content type 'application/x-gzip' length 1207521 bytes (1.2 MB)\n",
            "==================================================\n",
            "downloaded 1.2 MB\n",
            "\n",
            "* installing *source* package ‘config’ ...\n",
            "** package ‘config’ successfully unpacked and MD5 sums checked\n",
            "** using staged installation\n",
            "** R\n",
            "** inst\n",
            "** byte-compile and prepare package for lazy loading\n",
            "** help\n",
            "*** installing help indices\n",
            "*** copying figures\n",
            "** building package indices\n",
            "** installing vignettes\n",
            "** testing if installed package can be loaded from temporary location\n",
            "** testing if installed package can be loaded from final location\n",
            "** testing if installed package keeps a record of temporary installation path\n",
            "* DONE (config)\n",
            "* installing *source* package ‘globals’ ...\n",
            "** package ‘globals’ successfully unpacked and MD5 sums checked\n",
            "** using staged installation\n",
            "** R\n",
            "** inst\n",
            "** byte-compile and prepare package for lazy loading\n",
            "** help\n",
            "*** installing help indices\n",
            "** building package indices\n",
            "** testing if installed package can be loaded from temporary location\n",
            "** testing if installed package can be loaded from final location\n",
            "** testing if installed package keeps a record of temporary installation path\n",
            "* DONE (globals)\n",
            "* installing *source* package ‘dplyr’ ...\n",
            "** package ‘dplyr’ successfully unpacked and MD5 sums checked\n",
            "** using staged installation\n",
            "** libs\n",
            "using C++ compiler: ‘g++ (Ubuntu 11.4.0-1ubuntu1~22.04) 11.4.0’\n",
            "g++ -std=gnu++17 -I\"/usr/share/R/include\" -DNDEBUG       -fpic  -g -O2 -ffile-prefix-map=/build/r-base-avGvPq/r-base-4.4.1=. -fstack-protector-strong -Wformat -Werror=format-security -Wdate-time -D_FORTIFY_SOURCE=2   -c chop.cpp -o chop.o\n",
            "g++ -std=gnu++17 -I\"/usr/share/R/include\" -DNDEBUG       -fpic  -g -O2 -ffile-prefix-map=/build/r-base-avGvPq/r-base-4.4.1=. -fstack-protector-strong -Wformat -Werror=format-security -Wdate-time -D_FORTIFY_SOURCE=2   -c filter.cpp -o filter.o\n",
            "g++ -std=gnu++17 -I\"/usr/share/R/include\" -DNDEBUG       -fpic  -g -O2 -ffile-prefix-map=/build/r-base-avGvPq/r-base-4.4.1=. -fstack-protector-strong -Wformat -Werror=format-security -Wdate-time -D_FORTIFY_SOURCE=2   -c funs.cpp -o funs.o\n",
            "g++ -std=gnu++17 -I\"/usr/share/R/include\" -DNDEBUG       -fpic  -g -O2 -ffile-prefix-map=/build/r-base-avGvPq/r-base-4.4.1=. -fstack-protector-strong -Wformat -Werror=format-security -Wdate-time -D_FORTIFY_SOURCE=2   -c group_by.cpp -o group_by.o\n",
            "g++ -std=gnu++17 -I\"/usr/share/R/include\" -DNDEBUG       -fpic  -g -O2 -ffile-prefix-map=/build/r-base-avGvPq/r-base-4.4.1=. -fstack-protector-strong -Wformat -Werror=format-security -Wdate-time -D_FORTIFY_SOURCE=2   -c group_data.cpp -o group_data.o\n",
            "g++ -std=gnu++17 -I\"/usr/share/R/include\" -DNDEBUG       -fpic  -g -O2 -ffile-prefix-map=/build/r-base-avGvPq/r-base-4.4.1=. -fstack-protector-strong -Wformat -Werror=format-security -Wdate-time -D_FORTIFY_SOURCE=2   -c imports.cpp -o imports.o\n",
            "g++ -std=gnu++17 -I\"/usr/share/R/include\" -DNDEBUG       -fpic  -g -O2 -ffile-prefix-map=/build/r-base-avGvPq/r-base-4.4.1=. -fstack-protector-strong -Wformat -Werror=format-security -Wdate-time -D_FORTIFY_SOURCE=2   -c init.cpp -o init.o\n",
            "g++ -std=gnu++17 -I\"/usr/share/R/include\" -DNDEBUG       -fpic  -g -O2 -ffile-prefix-map=/build/r-base-avGvPq/r-base-4.4.1=. -fstack-protector-strong -Wformat -Werror=format-security -Wdate-time -D_FORTIFY_SOURCE=2   -c mask.cpp -o mask.o\n",
            "g++ -std=gnu++17 -I\"/usr/share/R/include\" -DNDEBUG       -fpic  -g -O2 -ffile-prefix-map=/build/r-base-avGvPq/r-base-4.4.1=. -fstack-protector-strong -Wformat -Werror=format-security -Wdate-time -D_FORTIFY_SOURCE=2   -c mutate.cpp -o mutate.o\n",
            "g++ -std=gnu++17 -I\"/usr/share/R/include\" -DNDEBUG       -fpic  -g -O2 -ffile-prefix-map=/build/r-base-avGvPq/r-base-4.4.1=. -fstack-protector-strong -Wformat -Werror=format-security -Wdate-time -D_FORTIFY_SOURCE=2   -c reconstruct.cpp -o reconstruct.o\n",
            "g++ -std=gnu++17 -I\"/usr/share/R/include\" -DNDEBUG       -fpic  -g -O2 -ffile-prefix-map=/build/r-base-avGvPq/r-base-4.4.1=. -fstack-protector-strong -Wformat -Werror=format-security -Wdate-time -D_FORTIFY_SOURCE=2   -c slice.cpp -o slice.o\n",
            "g++ -std=gnu++17 -I\"/usr/share/R/include\" -DNDEBUG       -fpic  -g -O2 -ffile-prefix-map=/build/r-base-avGvPq/r-base-4.4.1=. -fstack-protector-strong -Wformat -Werror=format-security -Wdate-time -D_FORTIFY_SOURCE=2   -c summarise.cpp -o summarise.o\n",
            "g++ -std=gnu++17 -shared -L/usr/lib/R/lib -Wl,-Bsymbolic-functions -flto=auto -ffat-lto-objects -flto=auto -Wl,-z,relro -o dplyr.so chop.o filter.o funs.o group_by.o group_data.o imports.o init.o mask.o mutate.o reconstruct.o slice.o summarise.o -L/usr/lib/R/lib -lR\n",
            "installing to /usr/local/lib/R/site-library/00LOCK-dplyr/00new/dplyr/libs\n",
            "** R\n",
            "** data\n",
            "*** moving datasets to lazyload DB\n",
            "** inst\n",
            "** byte-compile and prepare package for lazy loading\n",
            "** help\n",
            "*** installing help indices\n",
            "*** copying figures\n",
            "** building package indices\n",
            "** installing vignettes\n",
            "** testing if installed package can be loaded from temporary location\n",
            "** checking absolute paths in shared objects and dynamic libraries\n",
            "** testing if installed package can be loaded from final location\n",
            "** testing if installed package keeps a record of temporary installation path\n",
            "* DONE (dplyr)\n",
            "* installing *source* package ‘sparklyr’ ...\n",
            "** package ‘sparklyr’ successfully unpacked and MD5 sums checked\n",
            "** using staged installation\n",
            "** R\n",
            "** inst\n",
            "** byte-compile and prepare package for lazy loading\n",
            "** help\n",
            "*** installing help indices\n",
            "** building package indices\n",
            "** testing if installed package can be loaded from temporary location\n",
            "** testing if installed package can be loaded from final location\n",
            "** testing if installed package keeps a record of temporary installation path\n",
            "* DONE (sparklyr)\n",
            "\n",
            "The downloaded source packages are in\n",
            "\t‘/tmp/RtmppnuE95/downloaded_packages’\n",
            "> \n",
            "> \n"
          ]
        }
      ],
      "source": [
        "# Install the required packages in R\n",
        "!apt-get install -y r-cran-rjava\n",
        "!R -e \"install.packages(c('sparklyr', 'dplyr'))\"\n"
      ]
    },
    {
      "cell_type": "markdown",
      "source": [
        "2. **Install Spark**"
      ],
      "metadata": {
        "id": "IqMEBSW9sf03"
      }
    },
    {
      "cell_type": "code",
      "source": [
        "# Install Java (version 8 for Spark compatibility)\n",
        "!apt-get install openjdk-8-jdk-headless -qq > /dev/null\n",
        "\n",
        "# Download Spark with Hadoop and extract it\n",
        "!wget -q https://archive.apache.org/dist/spark/spark-3.3.0/spark-3.3.0-bin-hadoop3.tgz\n",
        "!tar xf spark-3.3.0-bin-hadoop3.tgz\n",
        "\n",
        "# Install findspark to link Python with Spark\n",
        "!pip install -q findspark\n",
        "\n",
        "\n"
      ],
      "metadata": {
        "id": "DwYPeB9Csotp"
      },
      "execution_count": 9,
      "outputs": []
    },
    {
      "cell_type": "code",
      "source": [
        "# List the contents of the Python directory inside Spark to verify py4j\n",
        "!ls /content/spark-3.3.0-bin-hadoop3/python/lib\n",
        "\n"
      ],
      "metadata": {
        "colab": {
          "base_uri": "https://localhost:8080/"
        },
        "id": "C-oDBAKkv0jy",
        "outputId": "56aabdc4-9dea-47b9-bc1e-cc70016337cc"
      },
      "execution_count": 10,
      "outputs": [
        {
          "output_type": "stream",
          "name": "stdout",
          "text": [
            "py4j-0.10.9.5-src.zip  PY4J_LICENSE.txt  pyspark.zip\n"
          ]
        }
      ]
    },
    {
      "cell_type": "markdown",
      "source": [
        "Making sure `py4j-0.10.9.5-src.zip` is in directory"
      ],
      "metadata": {
        "id": "kdQ-kNTnoAdm"
      }
    },
    {
      "cell_type": "markdown",
      "source": [
        "3. **Set up Environment Variables**"
      ],
      "metadata": {
        "id": "pk5GbrbLsyvx"
      }
    },
    {
      "cell_type": "code",
      "source": [
        "import os\n",
        "\n",
        "# Set environment variables for Spark and Java\n",
        "os.environ[\"JAVA_HOME\"] = \"/usr/lib/jvm/java-8-openjdk-amd64\"\n",
        "os.environ[\"SPARK_HOME\"] = \"/content/spark-3.3.0-bin-hadoop3\"\n",
        "os.environ[\"PATH\"] = os.environ[\"SPARK_HOME\"] + \"/bin:\" + os.environ[\"JAVA_HOME\"] + \"/bin:\" + os.environ[\"PATH\"]\n",
        "\n",
        "# Initialize findspark\n",
        "import findspark\n",
        "findspark.init()\n",
        "\n"
      ],
      "metadata": {
        "id": "iWUqQduHqA3L"
      },
      "execution_count": 11,
      "outputs": []
    },
    {
      "cell_type": "markdown",
      "source": [
        "4. **Load Sparklyr in R**"
      ],
      "metadata": {
        "id": "J4echXess8Z0"
      }
    },
    {
      "cell_type": "code",
      "execution_count": 12,
      "metadata": {
        "id": "BCwcAVUGjKN0",
        "colab": {
          "base_uri": "https://localhost:8080/"
        },
        "outputId": "12baa7f0-32ef-4b0e-bb46-b3d7ac6e5993"
      },
      "outputs": [
        {
          "output_type": "stream",
          "name": "stderr",
          "text": [
            "WARNING:rpy2.rinterface_lib.callbacks:R[write to console]: \n",
            "Attaching package: ‘sparklyr’\n",
            "\n",
            "\n",
            "WARNING:rpy2.rinterface_lib.callbacks:R[write to console]: The following object is masked from ‘package:stats’:\n",
            "\n",
            "    filter\n",
            "\n",
            "\n",
            "WARNING:rpy2.rinterface_lib.callbacks:R[write to console]: \n",
            "Attaching package: ‘dplyr’\n",
            "\n",
            "\n",
            "WARNING:rpy2.rinterface_lib.callbacks:R[write to console]: The following objects are masked from ‘package:stats’:\n",
            "\n",
            "    filter, lag\n",
            "\n",
            "\n",
            "WARNING:rpy2.rinterface_lib.callbacks:R[write to console]: The following objects are masked from ‘package:base’:\n",
            "\n",
            "    intersect, setdiff, setequal, union\n",
            "\n",
            "\n"
          ]
        }
      ],
      "source": [
        "%%R\n",
        "Sys.setenv(SPARK_HOME = \"/content/spark-3.3.0-bin-hadoop3\")\n",
        "Sys.setenv(JAVA_HOME = \"/usr/lib/jvm/java-8-openjdk-amd64\")\n",
        "\n",
        "library(sparklyr)\n",
        "library(dplyr)\n",
        "\n",
        "# Connect to Spark\n",
        "sc <- spark_connect(master = \"local\")"
      ]
    },
    {
      "cell_type": "markdown",
      "source": [
        "5. **Connect files from google drive**"
      ],
      "metadata": {
        "id": "WqsnXAilQkkM"
      }
    },
    {
      "cell_type": "code",
      "source": [
        "# Load the Drive helper and mount\n",
        "from google.colab import drive\n",
        "drive.mount('/content/drive')"
      ],
      "metadata": {
        "colab": {
          "base_uri": "https://localhost:8080/"
        },
        "id": "dUgOMDMpQkwL",
        "outputId": "5bec0166-f7f5-4e75-fc11-a590b817e521"
      },
      "execution_count": 1,
      "outputs": [
        {
          "output_type": "stream",
          "name": "stdout",
          "text": [
            "Mounted at /content/drive\n"
          ]
        }
      ]
    },
    {
      "cell_type": "code",
      "source": [
        "%%R\n",
        "path = '/content/drive/MyDrive/'\n",
        "track_metadata <- readRDS(paste0(path,'track_metadata.rds'))"
      ],
      "metadata": {
        "id": "fenAWxfUpRZ6"
      },
      "execution_count": 18,
      "outputs": []
    },
    {
      "cell_type": "code",
      "source": [
        "%%R\n",
        "# Load dplyr\n",
        "library(dplyr)\n",
        "\n",
        "# Explore track_metadata structure\n",
        "str(track_metadata)"
      ],
      "metadata": {
        "colab": {
          "base_uri": "https://localhost:8080/"
        },
        "id": "KRwPAyuspcFK",
        "outputId": "2ece9da4-4f58-42b6-a45c-0ce9af22c0b5"
      },
      "execution_count": 19,
      "outputs": [
        {
          "output_type": "stream",
          "name": "stdout",
          "text": [
            "tibble [1,000 × 11] (S3: tbl_df/tbl/data.frame)\n",
            " $ track_id          : chr [1:1000] \"TRDVOZX128F93283A3\" \"TRDPMEU12903CC5434\" \"TRJQDNJ128F426E8CE\" \"TRRRGCS128F4280BB6\" ...\n",
            " $ title             : chr [1:1000] \"Jersey Belle Blues\" \"Get Yourself Together\" \"Jersey Bull Blues\" \"High Fever Blues\" ...\n",
            " $ song_id           : chr [1:1000] \"SOKMEHX12AB0180877\" \"SOFCPUM12AB018A4EB\" \"SOKDFLC12A8C1354AE\" \"SONQUOG12A8C13C76F\" ...\n",
            " $ release           : chr [1:1000] \"Backwater Blues\" \"Rambler's Blues\" \"Complete Recordings_ CD E\" \"The Panama Limited\" ...\n",
            " $ artist_id         : chr [1:1000] \"ARDNQ0R1187B9BA1EF\" \"ARDNQ0R1187B9BA1EF\" \"ARTDUXM1187B9899ED\" \"ARNEL2O1187FB4421A\" ...\n",
            " $ artist_mbid       : chr [1:1000] \"dbfd61ef-fce1-4803-9f18-7bfdd3996508\" \"dbfd61ef-fce1-4803-9f18-7bfdd3996508\" \"c71b4f57-29da-4bf2-bccb-9dc81cd2d905\" \"882af819-887e-4691-a4af-b14613058942\" ...\n",
            " $ artist_name       : chr [1:1000] \"Lonnie Johnson\" \"Lonnie Johnson\" \"Charley Patton\" \"Bukka White\" ...\n",
            " $ duration          : num [1:1000] 178 190 193 174 192 ...\n",
            " $ artist_familiarity: num [1:1000] 0.559 0.559 0.574 0.572 0.638 ...\n",
            " $ artist_hotttnesss : num [1:1000] 0.405 0.405 0.376 0.424 0.405 ...\n",
            " $ year              : int [1:1000] 1940 1940 1934 1940 1931 1939 1936 1940 1935 1940 ...\n"
          ]
        }
      ]
    },
    {
      "cell_type": "code",
      "source": [
        "%%R\n",
        "# Connect to Spark\n",
        "sc <- spark_connect(master = \"local\")\n",
        "\n",
        "# Copy track_metadata to Spark\n",
        "track_metadata_tbl <- copy_to(sc, track_metadata, overwrite = TRUE)\n",
        "\n",
        "\n",
        "# List the data frames available in Spark\n",
        "src_tbls(sc)\n",
        "\n",
        "# Disconnect from Spark\n",
        "#spark_disconnect(sc = spark_conn)"
      ],
      "metadata": {
        "colab": {
          "base_uri": "https://localhost:8080/"
        },
        "id": "6yyzcuA2pAzs",
        "outputId": "6e53d05a-f7cb-42d3-bf99-7b020bfe47e0"
      },
      "execution_count": 20,
      "outputs": [
        {
          "output_type": "stream",
          "name": "stderr",
          "text": [
            "WARNING:rpy2.rinterface_lib.callbacks:R[write to console]: Re-using existing Spark connection to local\n",
            "\n"
          ]
        },
        {
          "output_type": "stream",
          "name": "stdout",
          "text": [
            "[1] \"timbre\"         \"track_metadata\"\n"
          ]
        }
      ]
    },
    {
      "cell_type": "code",
      "source": [
        "%%R\n",
        "# Print 5 rows, all columns\n",
        "print(track_metadata_tbl, n = 5, width =Inf)\n",
        "\n",
        "# Examine structure of tibble\n",
        "str(track_metadata_tbl)\n",
        "\n",
        "# Examine structure of data\n",
        "glimpse(track_metadata_tbl)"
      ],
      "metadata": {
        "colab": {
          "base_uri": "https://localhost:8080/"
        },
        "id": "bXUnHEVNrAL8",
        "outputId": "6d7e9657-7014-4b2c-abd7-b58aecf1bf44"
      },
      "execution_count": 21,
      "outputs": [
        {
          "output_type": "stream",
          "name": "stdout",
          "text": [
            "# Source:   table<`track_metadata`> [?? x 11]\n",
            "# Database: spark_connection\n",
            "  track_id           title                 song_id           \n",
            "  <chr>              <chr>                 <chr>             \n",
            "1 TRDVOZX128F93283A3 Jersey Belle Blues    SOKMEHX12AB0180877\n",
            "2 TRDPMEU12903CC5434 Get Yourself Together SOFCPUM12AB018A4EB\n",
            "3 TRJQDNJ128F426E8CE Jersey Bull Blues     SOKDFLC12A8C1354AE\n",
            "4 TRRRGCS128F4280BB6 High Fever Blues      SONQUOG12A8C13C76F\n",
            "5 TRISTAT12903CFCBA1 Safety Mama           SODFTCC12AC95F0214\n",
            "  release                   artist_id         \n",
            "  <chr>                     <chr>             \n",
            "1 Backwater Blues           ARDNQ0R1187B9BA1EF\n",
            "2 Rambler's Blues           ARDNQ0R1187B9BA1EF\n",
            "3 Complete Recordings_ CD E ARTDUXM1187B9899ED\n",
            "4 The Panama Limited        ARNEL2O1187FB4421A\n",
            "5 The Blues Collection      ARYYCVC1187B9A8510\n",
            "  artist_mbid                          artist_name    duration\n",
            "  <chr>                                <chr>             <dbl>\n",
            "1 dbfd61ef-fce1-4803-9f18-7bfdd3996508 Lonnie Johnson     178.\n",
            "2 dbfd61ef-fce1-4803-9f18-7bfdd3996508 Lonnie Johnson     190.\n",
            "3 c71b4f57-29da-4bf2-bccb-9dc81cd2d905 Charley Patton     193.\n",
            "4 882af819-887e-4691-a4af-b14613058942 Bukka White        174.\n",
            "5 ffa28768-ecda-42c6-ac49-6ce5c7d33043 Bessie Smith       192.\n",
            "  artist_familiarity artist_hotttnesss  year\n",
            "               <dbl>             <dbl> <int>\n",
            "1              0.559             0.405  1940\n",
            "2              0.559             0.405  1940\n",
            "3              0.574             0.376  1934\n",
            "4              0.572             0.424  1940\n",
            "5              0.638             0.405  1931\n",
            "# ℹ more rows\n",
            "# ℹ Use `print(n = ...)` to see more rows\n",
            "List of 6\n",
            " $ src               :List of 1\n",
            "  ..$ con:List of 13\n",
            "  .. ..$ master      : chr \"local[2]\"\n",
            "  .. ..$ method      : chr \"shell\"\n",
            "  .. ..$ app_name    : chr \"sparklyr\"\n",
            "  .. ..$ config      :List of 7\n",
            "  .. .. ..$ spark.env.SPARK_LOCAL_IP.local           : chr \"127.0.0.1\"\n",
            "  .. .. ..$ sparklyr.connect.csv.embedded            : chr \"^1.*\"\n",
            "  .. .. ..$ spark.sql.legacy.utcTimestampFunc.enabled: logi TRUE\n",
            "  .. .. ..$ sparklyr.connect.cores.local             : int 2\n",
            "  .. .. ..$ spark.sql.shuffle.partitions.local       : int 2\n",
            "  .. .. ..$ sparklyr.shell.name                      : chr \"sparklyr\"\n",
            "  .. .. ..$ sparklyr.shell.driver-memory             : chr \"2g\"\n",
            "  .. .. ..- attr(*, \"config\")= chr \"default\"\n",
            "  .. .. ..- attr(*, \"file\")= chr \"/usr/local/lib/R/site-library/sparklyr/conf/config-template.yml\"\n",
            "  .. .. ..- attr(*, \"class\")= chr \"config\"\n",
            "  .. ..$ state       :<environment: 0x5604f3852830> \n",
            "  .. ..$ extensions  :List of 6\n",
            "  .. .. ..$ jars              : chr(0) \n",
            "  .. .. ..$ packages          : chr(0) \n",
            "  .. .. ..$ initializers      : list()\n",
            "  .. .. ..$ catalog_jars      : chr(0) \n",
            "  .. .. ..$ repositories      : chr(0) \n",
            "  .. .. ..$ dbplyr_sql_variant:List of 3\n",
            "  .. .. .. ..$ scalar   : list()\n",
            "  .. .. .. ..$ aggregate: list()\n",
            "  .. .. .. ..$ window   : list()\n",
            "  .. ..$ spark_home  : chr \"/content/spark-3.3.0-bin-hadoop3\"\n",
            "  .. ..$ backend     : 'sockconn' int 4\n",
            "  .. .. ..- attr(*, \"conn_id\")=<externalptr> \n",
            "  .. ..$ monitoring  : 'sockconn' int 5\n",
            "  .. .. ..- attr(*, \"conn_id\")=<externalptr> \n",
            "  .. ..$ gateway     : 'sockconn' int 3\n",
            "  .. .. ..- attr(*, \"conn_id\")=<externalptr> \n",
            "  .. ..$ output_file : chr \"/tmp/RtmpghjgJU/file16e79765265_spark.log\"\n",
            "  .. ..$ sessionId   : num 92628\n",
            "  .. ..$ home_version: chr \"3.3.0\"\n",
            "  .. ..- attr(*, \"class\")= chr [1:3] \"spark_connection\" \"spark_shell_connection\" \"DBIConnection\"\n",
            "  ..- attr(*, \"class\")= chr [1:3] \"src_spark\" \"src_sql\" \"src\"\n",
            " $ lazy_query        :List of 5\n",
            "  ..$ x         : 'dbplyr_table_path' chr \"`track_metadata`\"\n",
            "  ..$ vars      : chr [1:11] \"track_id\" \"title\" \"song_id\" \"release\" ...\n",
            "  ..$ group_vars: chr(0) \n",
            "  ..$ order_vars: NULL\n",
            "  ..$ frame     : NULL\n",
            "  ..- attr(*, \"class\")= chr [1:3] \"lazy_base_remote_query\" \"lazy_base_query\" \"lazy_query\"\n",
            " $ sdf_cache_state   :<environment: 0x5604f5860e80> \n",
            " $ spark_dataframe   :function (self, spark_dataframe_impl)  \n",
            " $ schema_cache_state:<environment: 0x5604f5862160> \n",
            " $ schema            :function (self, schema_impl, expand_nested_cols, expand_struct_cols)  \n",
            " - attr(*, \"class\")= chr [1:4] \"tbl_spark\" \"tbl_sql\" \"tbl_lazy\" \"tbl\"\n",
            "Rows: ??\n",
            "Columns: 11\n",
            "Database: spark_connection\n",
            "$ track_id           <chr> \"TRDVOZX128F93283A3\", \"TRDPMEU12903CC5434\", \"TRJQDN…\n",
            "$ title              <chr> \"Jersey Belle Blues\", \"Get Yourself Together\", \"Jer…\n",
            "$ song_id            <chr> \"SOKMEHX12AB0180877\", \"SOFCPUM12AB018A4EB\", \"SOKDFL…\n",
            "$ release            <chr> \"Backwater Blues\", \"Rambler's Blues\", \"Complete Rec…\n",
            "$ artist_id          <chr> \"ARDNQ0R1187B9BA1EF\", \"ARDNQ0R1187B9BA1EF\", \"ARTDUX…\n",
            "$ artist_mbid        <chr> \"dbfd61ef-fce1-4803-9f18-7bfdd3996508\", \"dbfd61ef-f…\n",
            "$ artist_name        <chr> \"Lonnie Johnson\", \"Lonnie Johnson\", \"Charley Patton…\n",
            "$ duration           <dbl> 177.9195, 190.4061, 192.6265, 174.1057, 191.7383, 1…\n",
            "$ artist_familiarity <dbl> 0.5589263, 0.5589322, 0.5743001, 0.5724709, 0.63752…\n",
            "$ artist_hotttnesss  <dbl> 0.4048271, 0.4048271, 0.3755936, 0.4244876, 0.40479…\n",
            "$ year               <int> 1940, 1940, 1934, 1940, 1931, 1939, 1936, 1940, 193…\n"
          ]
        }
      ]
    },
    {
      "cell_type": "markdown",
      "source": [
        "##Selecting columns##"
      ],
      "metadata": {
        "id": "woBJAgZ3rUtD"
      }
    },
    {
      "cell_type": "code",
      "source": [
        "%%R\n",
        "# track_metadata_tbl has been pre-defined\n",
        "track_metadata_tbl\n",
        "\n",
        "# Manipulate the track metadata\n",
        "track_metadata_tbl %>%\n",
        "  # Select columns\n",
        "  select(artist_name, release, title, year)\n",
        "\n",
        "# Try to select columns using [ ]\n",
        "tryCatch({\n",
        "    # Selection code here\n",
        "    track_metadata_tbl[, c(\"artist_name\", \"release\", \"title\", \"year\")]\n",
        "  },\n",
        "  error = print\n",
        ")"
      ],
      "metadata": {
        "colab": {
          "base_uri": "https://localhost:8080/"
        },
        "id": "GAelAI7_qaLa",
        "outputId": "0de46137-ce21-41b7-f608-d8b9abfa58f6"
      },
      "execution_count": 22,
      "outputs": [
        {
          "output_type": "stream",
          "name": "stdout",
          "text": [
            "<simpleError in `[.tbl_spark`(track_metadata_tbl, , c(\"artist_name\", \"release\",     \"title\", \"year\")): unused argument (c(\"artist_name\", \"release\", \"title\", \"year\"))>\n"
          ]
        }
      ]
    },
    {
      "cell_type": "markdown",
      "source": [
        "# Filtering rows"
      ],
      "metadata": {
        "id": "BWL4_BmDre7q"
      }
    },
    {
      "cell_type": "code",
      "execution_count": 23,
      "metadata": {
        "colab": {
          "base_uri": "https://localhost:8080/"
        },
        "id": "R31mYQmMIw4D",
        "outputId": "9366afe8-5e3b-4f21-cb34-d89bb89e0f13"
      },
      "outputs": [
        {
          "output_type": "stream",
          "name": "stdout",
          "text": [
            "Rows: ??\n",
            "Columns: 11\n",
            "Database: spark_connection\n",
            "$ track_id           <chr> \"TRDVOZX128F93283A3\", \"TRDPMEU12903CC5434\", \"TRJQDN…\n",
            "$ title              <chr> \"Jersey Belle Blues\", \"Get Yourself Together\", \"Jer…\n",
            "$ song_id            <chr> \"SOKMEHX12AB0180877\", \"SOFCPUM12AB018A4EB\", \"SOKDFL…\n",
            "$ release            <chr> \"Backwater Blues\", \"Rambler's Blues\", \"Complete Rec…\n",
            "$ artist_id          <chr> \"ARDNQ0R1187B9BA1EF\", \"ARDNQ0R1187B9BA1EF\", \"ARTDUX…\n",
            "$ artist_mbid        <chr> \"dbfd61ef-fce1-4803-9f18-7bfdd3996508\", \"dbfd61ef-f…\n",
            "$ artist_name        <chr> \"Lonnie Johnson\", \"Lonnie Johnson\", \"Charley Patton…\n",
            "$ duration           <dbl> 177.9195, 190.4061, 192.6265, 174.1057, 191.7383, 1…\n",
            "$ artist_familiarity <dbl> 0.5589263, 0.5589322, 0.5743001, 0.5724709, 0.63752…\n",
            "$ artist_hotttnesss  <dbl> 0.4048271, 0.4048271, 0.3755936, 0.4244876, 0.40479…\n",
            "$ year               <int> 1940, 1940, 1934, 1940, 1931, 1939, 1936, 1940, 193…\n",
            "# Source:   SQL [?? x 4]\n",
            "# Database: spark_connection\n",
            "   artist_name                    release                            title  year\n",
            "   <chr>                          <chr>                              <chr> <int>\n",
            " 1 Shirelles                      Dedicated To The One I Love        Dedi…  1960\n",
            " 2 Cliff Richard And The Shadows  The Hits In Between                I Lo…  1960\n",
            " 3 Jackson Do Pandeiro            Festa Nordestina                   Seba…  1960\n",
            " 4 Maurice Williams & The Zodiacs Soul Train Part 2                  Stay   1960\n",
            " 5 Julie London                   Julie . . . At Home/Around Midnig… Ever…  1960\n",
            " 6 Link Wray & The Wraymen        Link Wray: Slinky! The Epic Sessi… Radar  1960\n",
            " 7 Bo Diddley                     Roadrunner The Chess Masters: 195… Let …  1960\n",
            " 8 Lenny Bruce                    The Lenny Bruce Originals_ Volume… The …  1960\n",
            " 9 Paul Anka                      Sing Sing Sing                     Lone…  1960\n",
            "10 Elvis Presley                  The King                           Such…  1960\n",
            "# ℹ more rows\n",
            "# ℹ Use `print(n = ...)` to see more rows\n"
          ]
        }
      ],
      "source": [
        "%%R\n",
        "# track_metadata_tbl has been pre-defined\n",
        "glimpse(track_metadata_tbl)\n",
        "\n",
        "# Manipulate the track metadata\n",
        "track_metadata_tbl %>%\n",
        "  # Select columns\n",
        "  select(artist_name, release, title, year) %>%\n",
        "  # Filter rows\n",
        "  filter(year >= 1960, year < 1970)"
      ]
    },
    {
      "cell_type": "markdown",
      "metadata": {
        "id": "_lTrDsKtA0hL"
      },
      "source": [
        "4. Chapter 4: Case Study: Learning to be a Machine: Running Machine Learning Models on Spark\n",
        "# Machine learning functions\n",
        "In the last chapter, you saw some of the feature transformation functionality of Spark MLlib. If that library were a meal, the feature transformations would be a starter; the main course is a sumptuous selection of machine learning modeling functions! These functions all have names beginning with ml_, and have a similar signature. They take several arguments, including a tibble, a formula specifying the relationship between variables, a string naming the features, a string containing the labels and more.\n",
        "\n",
        "Supported machine learning functions include linear regression and its variants, tree-based models (ml_decision_tree_classifier()), and a few others. You can see the list of all the machine learning functions using ls().\n",
        "\n",
        "ls(\"package:sparklyr\", pattern = \"^ml\")\n",
        "What arguments do all the machine learning model functions take?"
      ]
    },
    {
      "cell_type": "code",
      "source": [
        "%%R\n",
        "# parquet_dir has been pre-defined\n",
        "# parquet_dir <- \"/usr/local/share/datasets/timbre_parquet\"\n",
        "path = '/content/drive/MyDrive/'\n",
        "parquet_dir <- paste0(path,\"timbre_parquet/timbre_parquet\")\n",
        "\n",
        "# List the files in the parquet dir\n",
        "filenames <- dir(parquet_dir, full.names =TRUE)\n",
        "\n",
        "# Show the filenames and their sizes\n",
        "data_frame(\n",
        "  filename = basename(filenames),\n",
        "  size_bytes = file.size(filenames)\n",
        ")\n",
        "\n",
        "# Import the data into Spark\n",
        "timbre_tbl <- spark_read_parquet(sc, \"timbre\", parquet_dir)"
      ],
      "metadata": {
        "id": "9oZ5BdxWycX0"
      },
      "execution_count": 15,
      "outputs": []
    },
    {
      "cell_type": "code",
      "source": [
        "%%R\n",
        "# track_timbre_tbl has been pre-defined\n",
        "glimpse(timbre_tbl)"
      ],
      "metadata": {
        "colab": {
          "base_uri": "https://localhost:8080/"
        },
        "id": "_-UuZ5octNDL",
        "outputId": "3a268398-9604-47a1-e012-a199dfb8c82d"
      },
      "execution_count": 16,
      "outputs": [
        {
          "output_type": "stream",
          "name": "stdout",
          "text": [
            "Rows: ??\n",
            "Columns: 13\n",
            "Database: spark_connection\n",
            "$ track_id       <chr> \"TRDPMEU12903CC5434\", \"TRDVOZX128F93283A3\", \"TRDOAKS128…\n",
            "$ timbre_means1  <dbl> 37.34080, 33.26405, 37.87293, 35.70651, 29.10453, 37.40…\n",
            "$ timbre_means2  <dbl> -70.24654, -136.76969, -17.81619, -142.37477, -134.9177…\n",
            "$ timbre_means3  <dbl> 39.428858, 54.503290, 54.804798, 72.635894, 52.171353, …\n",
            "$ timbre_means4  <dbl> 12.6726046, 3.5944586, 3.6086709, -2.2336725, -0.671489…\n",
            "$ timbre_means5  <dbl> -23.8911017, -4.3616010, -17.6013387, -48.2585588, -32.…\n",
            "$ timbre_means6  <dbl> 24.034231, 23.981073, 23.116284, 18.523935, 12.665335, …\n",
            "$ timbre_means7  <dbl> -7.7350931, -23.9888659, -7.6270706, -29.1449510, -0.49…\n",
            "$ timbre_means8  <dbl> -4.5633195, 8.4730116, 3.9641605, 1.7380961, 16.0343886…\n",
            "$ timbre_means9  <dbl> 13.4756777, -8.5361540, 2.3813917, 19.8833431, -35.0272…\n",
            "$ timbre_means10 <dbl> 2.4620544, 3.4940116, 1.2209599, 13.1110333, -5.6356292…\n",
            "$ timbre_means11 <dbl> 1.06854298, -0.96005464, -0.13766292, 3.10174706, -0.07…\n",
            "$ timbre_means12 <dbl> 33.4520587, 16.7722914, 32.3146356, 0.3365902, 7.227739…\n"
          ]
        }
      ]
    },
    {
      "cell_type": "markdown",
      "metadata": {
        "id": "RZWwrIRmGA0h"
      },
      "source": [
        "# Come together\n"
      ]
    },
    {
      "cell_type": "code",
      "execution_count": 31,
      "metadata": {
        "id": "mysxE8H12RGY",
        "colab": {
          "base_uri": "https://localhost:8080/"
        },
        "outputId": "f514c079-b321-474a-d2c6-4ad3a1fd4dc2"
      },
      "outputs": [
        {
          "output_type": "stream",
          "name": "stdout",
          "text": [
            "List of 6\n",
            " $ src               :List of 1\n",
            "  ..$ con:List of 13\n",
            "  .. ..$ master      : chr \"local[2]\"\n",
            "  .. ..$ method      : chr \"shell\"\n",
            "  .. ..$ app_name    : chr \"sparklyr\"\n",
            "  .. ..$ config      :List of 7\n",
            "  .. .. ..$ spark.env.SPARK_LOCAL_IP.local           : chr \"127.0.0.1\"\n",
            "  .. .. ..$ sparklyr.connect.csv.embedded            : chr \"^1.*\"\n",
            "  .. .. ..$ spark.sql.legacy.utcTimestampFunc.enabled: logi TRUE\n",
            "  .. .. ..$ sparklyr.connect.cores.local             : int 2\n",
            "  .. .. ..$ spark.sql.shuffle.partitions.local       : int 2\n",
            "  .. .. ..$ sparklyr.shell.name                      : chr \"sparklyr\"\n",
            "  .. .. ..$ sparklyr.shell.driver-memory             : chr \"2g\"\n",
            "  .. .. ..- attr(*, \"config\")= chr \"default\"\n",
            "  .. .. ..- attr(*, \"file\")= chr \"/usr/local/lib/R/site-library/sparklyr/conf/config-template.yml\"\n",
            "  .. .. ..- attr(*, \"class\")= chr \"config\"\n",
            "  .. ..$ state       :<environment: 0x5604f3852830> \n",
            "  .. ..$ extensions  :List of 6\n",
            "  .. .. ..$ jars              : chr(0) \n",
            "  .. .. ..$ packages          : chr(0) \n",
            "  .. .. ..$ initializers      : list()\n",
            "  .. .. ..$ catalog_jars      : chr(0) \n",
            "  .. .. ..$ repositories      : chr(0) \n",
            "  .. .. ..$ dbplyr_sql_variant:List of 3\n",
            "  .. .. .. ..$ scalar   : list()\n",
            "  .. .. .. ..$ aggregate: list()\n",
            "  .. .. .. ..$ window   : list()\n",
            "  .. ..$ spark_home  : chr \"/content/spark-3.3.0-bin-hadoop3\"\n",
            "  .. ..$ backend     : 'sockconn' int 4\n",
            "  .. .. ..- attr(*, \"conn_id\")=<externalptr> \n",
            "  .. ..$ monitoring  : 'sockconn' int 5\n",
            "  .. .. ..- attr(*, \"conn_id\")=<externalptr> \n",
            "  .. ..$ gateway     : 'sockconn' int 3\n",
            "  .. .. ..- attr(*, \"conn_id\")=<externalptr> \n",
            "  .. ..$ output_file : chr \"/tmp/RtmpghjgJU/file16e79765265_spark.log\"\n",
            "  .. ..$ sessionId   : num 92628\n",
            "  .. ..$ home_version: chr \"3.3.0\"\n",
            "  .. ..- attr(*, \"class\")= chr [1:3] \"spark_connection\" \"spark_shell_connection\" \"DBIConnection\"\n",
            "  ..- attr(*, \"class\")= chr [1:3] \"src_spark\" \"src_sql\" \"src\"\n",
            " $ lazy_query        :List of 12\n",
            "  ..$ x                :List of 7\n",
            "  .. ..$ x          :List of 5\n",
            "  .. .. ..$ x         : 'dbplyr_table_path' chr \"`track_metadata`\"\n",
            "  .. .. ..$ vars      : chr [1:11] \"track_id\" \"title\" \"song_id\" \"release\" ...\n",
            "  .. .. ..$ group_vars: chr(0) \n",
            "  .. .. ..$ order_vars: NULL\n",
            "  .. .. ..$ frame     : NULL\n",
            "  .. .. ..- attr(*, \"class\")= chr [1:3] \"lazy_base_remote_query\" \"lazy_base_query\" \"lazy_query\"\n",
            "  .. ..$ joins      : tibble [1 × 4] (S3: tbl_df/tbl/data.frame)\n",
            "  .. .. ..$ table        :List of 1\n",
            "  .. .. .. ..$ :List of 5\n",
            "  .. .. .. .. ..$ x         : 'dbplyr_table_path' chr \"`timbre`\"\n",
            "  .. .. .. .. ..$ vars      : chr [1:13] \"track_id\" \"timbre_means1\" \"timbre_means2\" \"timbre_means3\" ...\n",
            "  .. .. .. .. ..$ group_vars: chr(0) \n",
            "  .. .. .. .. ..$ order_vars: NULL\n",
            "  .. .. .. .. ..$ frame     : NULL\n",
            "  .. .. .. .. ..- attr(*, \"class\")= chr [1:3] \"lazy_base_remote_query\" \"lazy_base_query\" \"lazy_query\"\n",
            "  .. .. ..$ type         : chr \"inner\"\n",
            "  .. .. ..$ by_x_table_id:List of 1\n",
            "  .. .. .. ..$ : int 1\n",
            "  .. .. ..$ by           :List of 1\n",
            "  .. .. .. ..$ :List of 5\n",
            "  .. .. .. .. ..$ x         : chr \"track_id\"\n",
            "  .. .. .. .. ..$ y         : chr \"track_id\"\n",
            "  .. .. .. .. ..$ condition : chr \"==\"\n",
            "  .. .. .. .. ..$ on        : 'sql' chr(0) \n",
            "  .. .. .. .. ..$ na_matches: chr \"never\"\n",
            "  .. ..$ table_names: tibble [2 × 2] (S3: tbl_df/tbl/data.frame)\n",
            "  .. .. ..$ name: 'dbplyr_table_path' chr [1:2] \"`track_metadata`\" \"`timbre`\"\n",
            "  .. .. ..$ from: chr [1:2] \"name\" \"name\"\n",
            "  .. ..$ vars       : tibble [23 × 3] (S3: tbl_df/tbl/data.frame)\n",
            "  .. .. ..$ name : chr [1:23] \"track_id\" \"title\" \"song_id\" \"release\" ...\n",
            "  .. .. ..$ table: int [1:23] 1 1 1 1 1 1 1 1 1 1 ...\n",
            "  .. .. ..$ var  : chr [1:23] \"track_id\" \"title\" \"song_id\" \"release\" ...\n",
            "  .. ..$ group_vars : chr(0) \n",
            "  .. ..$ order_vars : NULL\n",
            "  .. ..$ frame      : NULL\n",
            "  .. ..- attr(*, \"class\")= chr [1:2] \"lazy_multi_join_query\" \"lazy_query\"\n",
            "  ..$ select           : tibble [23 × 5] (S3: tbl_df/tbl/data.frame)\n",
            "  .. ..$ name      : chr [1:23] \"track_id\" \"title\" \"song_id\" \"release\" ...\n",
            "  .. ..$ expr      :List of 23\n",
            "  .. .. ..$ : symbol track_id\n",
            "  .. .. ..$ : symbol title\n",
            "  .. .. ..$ : symbol song_id\n",
            "  .. .. ..$ : symbol release\n",
            "  .. .. ..$ : symbol artist_id\n",
            "  .. .. ..$ : symbol artist_mbid\n",
            "  .. .. ..$ : symbol artist_name\n",
            "  .. .. ..$ : symbol duration\n",
            "  .. .. ..$ : symbol artist_familiarity\n",
            "  .. .. ..$ : symbol artist_hotttnesss\n",
            "  .. .. ..$ : language ~as.numeric(year)\n",
            "  .. .. .. ..- attr(*, \".Environment\")=<environment: 0x5604f7526128> \n",
            "  .. .. ..$ : symbol timbre_means1\n",
            "  .. .. ..$ : symbol timbre_means2\n",
            "  .. .. ..$ : symbol timbre_means3\n",
            "  .. .. ..$ : symbol timbre_means4\n",
            "  .. .. ..$ : symbol timbre_means5\n",
            "  .. .. ..$ : symbol timbre_means6\n",
            "  .. .. ..$ : symbol timbre_means7\n",
            "  .. .. ..$ : symbol timbre_means8\n",
            "  .. .. ..$ : symbol timbre_means9\n",
            "  .. .. ..$ : symbol timbre_means10\n",
            "  .. .. ..$ : symbol timbre_means11\n",
            "  .. .. ..$ : symbol timbre_means12\n",
            "  .. ..$ group_vars:List of 23\n",
            "  .. .. ..$ : chr(0) \n",
            "  .. .. ..$ : chr(0) \n",
            "  .. .. ..$ : chr(0) \n",
            "  .. .. ..$ : chr(0) \n",
            "  .. .. ..$ : chr(0) \n",
            "  .. .. ..$ : chr(0) \n",
            "  .. .. ..$ : chr(0) \n",
            "  .. .. ..$ : chr(0) \n",
            "  .. .. ..$ : chr(0) \n",
            "  .. .. ..$ : chr(0) \n",
            "  .. .. ..$ : chr(0) \n",
            "  .. .. ..$ : chr(0) \n",
            "  .. .. ..$ : chr(0) \n",
            "  .. .. ..$ : chr(0) \n",
            "  .. .. ..$ : chr(0) \n",
            "  .. .. ..$ : chr(0) \n",
            "  .. .. ..$ : chr(0) \n",
            "  .. .. ..$ : chr(0) \n",
            "  .. .. ..$ : chr(0) \n",
            "  .. .. ..$ : chr(0) \n",
            "  .. .. ..$ : chr(0) \n",
            "  .. .. ..$ : chr(0) \n",
            "  .. .. ..$ : chr(0) \n",
            "  .. ..$ order_vars:List of 23\n",
            "  .. .. ..$ : NULL\n",
            "  .. .. ..$ : NULL\n",
            "  .. .. ..$ : NULL\n",
            "  .. .. ..$ : NULL\n",
            "  .. .. ..$ : NULL\n",
            "  .. .. ..$ : NULL\n",
            "  .. .. ..$ : NULL\n",
            "  .. .. ..$ : NULL\n",
            "  .. .. ..$ : NULL\n",
            "  .. .. ..$ : NULL\n",
            "  .. .. ..$ : NULL\n",
            "  .. .. ..$ : NULL\n",
            "  .. .. ..$ : NULL\n",
            "  .. .. ..$ : NULL\n",
            "  .. .. ..$ : NULL\n",
            "  .. .. ..$ : NULL\n",
            "  .. .. ..$ : NULL\n",
            "  .. .. ..$ : NULL\n",
            "  .. .. ..$ : NULL\n",
            "  .. .. ..$ : NULL\n",
            "  .. .. ..$ : NULL\n",
            "  .. .. ..$ : NULL\n",
            "  .. .. ..$ : NULL\n",
            "  .. ..$ frame     :List of 23\n",
            "  .. .. ..$ : NULL\n",
            "  .. .. ..$ : NULL\n",
            "  .. .. ..$ : NULL\n",
            "  .. .. ..$ : NULL\n",
            "  .. .. ..$ : NULL\n",
            "  .. .. ..$ : NULL\n",
            "  .. .. ..$ : NULL\n",
            "  .. .. ..$ : NULL\n",
            "  .. .. ..$ : NULL\n",
            "  .. .. ..$ : NULL\n",
            "  .. .. ..$ : NULL\n",
            "  .. .. ..$ : NULL\n",
            "  .. .. ..$ : NULL\n",
            "  .. .. ..$ : NULL\n",
            "  .. .. ..$ : NULL\n",
            "  .. .. ..$ : NULL\n",
            "  .. .. ..$ : NULL\n",
            "  .. .. ..$ : NULL\n",
            "  .. .. ..$ : NULL\n",
            "  .. .. ..$ : NULL\n",
            "  .. .. ..$ : NULL\n",
            "  .. .. ..$ : NULL\n",
            "  .. .. ..$ : NULL\n",
            "  ..$ where            : NULL\n",
            "  ..$ group_by         : NULL\n",
            "  ..$ order_by         : NULL\n",
            "  ..$ distinct         : logi FALSE\n",
            "  ..$ limit            : NULL\n",
            "  ..$ select_operation : chr \"mutate\"\n",
            "  ..$ message_summarise: NULL\n",
            "  ..$ group_vars       : chr(0) \n",
            "  ..$ order_vars       : NULL\n",
            "  ..$ frame            : NULL\n",
            "  ..- attr(*, \"class\")= chr [1:2] \"lazy_select_query\" \"lazy_query\"\n",
            " $ sdf_cache_state   :<environment: 0x5604f5860e80> \n",
            " $ spark_dataframe   :function (self, spark_dataframe_impl)  \n",
            " $ schema_cache_state:<environment: 0x5604f5862160> \n",
            " $ schema            :function (self, schema_impl, expand_nested_cols, expand_struct_cols)  \n",
            " - attr(*, \"class\")= chr [1:4] \"tbl_spark\" \"tbl_sql\" \"tbl_lazy\" \"tbl\"\n"
          ]
        }
      ],
      "source": [
        "%%R\n",
        "\n",
        "# track_metadata_tbl, timbre_tbl pre-defined\n",
        "track_metadata_tbl\n",
        "timbre_tbl\n",
        "\n",
        "track_data_tbl <- track_metadata_tbl %>%\n",
        "                          # Inner join to timbre_tbl\n",
        "                          inner_join(timbre_tbl, by = \"track_id\") %>%\n",
        "                          # Convert year to numeric\n",
        "                          mutate(year = as.numeric(year))\n",
        "\n",
        "str(track_data_tbl)"
      ]
    },
    {
      "cell_type": "markdown",
      "metadata": {
        "id": "5-F0t9LmHwxY"
      },
      "source": [
        "# Partitioning data with a group effect\n"
      ]
    },
    {
      "cell_type": "code",
      "execution_count": 32,
      "metadata": {
        "id": "A5GS69I2Huf-"
      },
      "outputs": [],
      "source": [
        "%%R\n",
        "\n",
        "# track_data_tbl has been pre-defined\n",
        "track_data_tbl\n",
        "\n",
        "training_testing_artist_ids <- track_data_tbl %>%\n",
        "  # Select the artist ID\n",
        "  select(artist_id) %>%\n",
        "  # Get distinct rows\n",
        "  distinct() %>%\n",
        "  # Partition into training/testing sets\n",
        "  sdf_random_split(training = .7, testing=0.3)\n",
        "\n",
        "track_data_to_model_tbl <- track_data_tbl %>%\n",
        "  # Inner join to training partition\n",
        "  inner_join(training_testing_artist_ids$training, by = \"artist_id\")\n",
        "\n",
        "track_data_to_predict_tbl <- track_data_tbl %>%\n",
        "  # Inner join to testing partition\n",
        "  inner_join(training_testing_artist_ids$testing, by = \"artist_id\")"
      ]
    },
    {
      "cell_type": "markdown",
      "metadata": {
        "id": "9C5vmYdmK_oc"
      },
      "source": [
        "# Gradient boosted trees: modeling\n",
        "\n"
      ]
    },
    {
      "cell_type": "code",
      "execution_count": 35,
      "metadata": {
        "id": "aLFeDYVMHui3"
      },
      "outputs": [],
      "source": [
        "%%R\n",
        "\n",
        "library(stringr)\n",
        "\n",
        "# track_data_to_model_tbl has been pre-defined\n",
        "track_data_to_model_tbl\n",
        "\n",
        "feature_colnames <- track_data_to_model_tbl %>%\n",
        "  # Get the column names\n",
        "  colnames() %>%\n",
        "  # Limit to the timbre columns\n",
        "  str_subset(fixed(\"timbre\"))\n",
        "\n",
        "feature_colnames\n",
        "\n",
        "# Create the formula for the model\n",
        "year_formula <- reformulate(termlabels= feature_colnames,\n",
        "                            response = \"year\")\n",
        "\n",
        "gradient_boosted_trees_model <- track_data_to_model_tbl %>%\n",
        "  # Run the gradient boosted trees model\n",
        "  ml_gradient_boosted_trees(year_formula)"
      ]
    },
    {
      "cell_type": "markdown",
      "metadata": {
        "id": "_s_DrpTZRqKT"
      },
      "source": [
        "# Gradient boosted trees: prediction\n",
        "\n"
      ]
    },
    {
      "cell_type": "code",
      "execution_count": 36,
      "metadata": {
        "id": "_5qTOZI2HumF"
      },
      "outputs": [],
      "source": [
        "%%R\n",
        "# Training, testing sets & model are pre-defined\n",
        "track_data_to_model_tbl\n",
        "track_data_to_predict_tbl\n",
        "gradient_boosted_trees_model\n",
        "\n",
        "# Predict the responses for the testing data\n",
        "predicted <- ml_predict(\n",
        "      gradient_boosted_trees_model,\n",
        "      track_data_to_predict_tbl) %>% pull(prediction)\n",
        "\n",
        "# Prepare the data for comparing predicted responses with actual responses\n",
        "responses <- track_data_to_predict_tbl %>%\n",
        "  # Select the response column\n",
        "  select(year) %>%\n",
        "  # Collect the results\n",
        "  collect() %>%\n",
        "  # Add in the predictions\n",
        "  mutate(predicted)"
      ]
    },
    {
      "cell_type": "code",
      "source": [
        "%%R\n",
        "responses"
      ],
      "metadata": {
        "colab": {
          "base_uri": "https://localhost:8080/"
        },
        "id": "jgdsTQ4JC939",
        "outputId": "16f8cfaf-72cc-4f22-cdeb-8a1b5a3668b6"
      },
      "execution_count": 47,
      "outputs": [
        {
          "output_type": "stream",
          "name": "stdout",
          "text": [
            "# A tibble: 29 × 2\n",
            "    year predicted\n",
            "   <dbl>     <dbl>\n",
            " 1  1945     1949.\n",
            " 2  1949     1947.\n",
            " 3  1937     1939.\n",
            " 4  1939     1938.\n",
            " 5  1949     1944.\n",
            " 6  1949     1944.\n",
            " 7  1947     1940.\n",
            " 8  1938     1944.\n",
            " 9  1935     1939.\n",
            "10  1960     1946.\n",
            "# ℹ 19 more rows\n",
            "# ℹ Use `print(n = ...)` to see more rows\n"
          ]
        }
      ]
    },
    {
      "cell_type": "markdown",
      "metadata": {
        "id": "5_W50Bf_UMXG"
      },
      "source": [
        "# Gradient boosted trees: visualization\n",
        "\n",
        "\n"
      ]
    },
    {
      "cell_type": "code",
      "execution_count": 45,
      "metadata": {
        "id": "Q0maH8A3HupF",
        "colab": {
          "base_uri": "https://localhost:8080/",
          "height": 781
        },
        "outputId": "a9881d8c-18ff-49d9-ca53-1f2bf554ebf7"
      },
      "outputs": [
        {
          "output_type": "stream",
          "name": "stdout",
          "text": [
            "Error in `transmute()`:\n",
            "ℹ In argument: `residual = predicted - actual`.\n",
            "Caused by error:\n",
            "! object 'actual' not found\n",
            "Run `rlang::last_trace()` to see where the error occurred.\n",
            "\n",
            "Error in transmute(., residual = predicted - actual) : \n",
            "Caused by error:\n",
            "! object 'actual' not found\n"
          ]
        },
        {
          "output_type": "error",
          "ename": "RInterpreterError",
          "evalue": "Failed to parse and evaluate line '\\nlibrary(ggplot2)\\n\\n# responses has been pre-defined\\nresponses\\n\\n# Draw a scatterplot of predicted vs. actual\\nggplot(responses, aes(actual, predicted)) +\\n  # Add the points\\n  geom_point(alpha=0.1) +\\n  # Add a line at actual = predicted\\n  geom_abline(intercept=0, slope=1)\\n\\nresiduals <- responses %>%\\n  # Transmute response data to residuals\\n  transmute(residual= predicted - actual)\\n\\n# Draw a density plot of residuals\\nggplot(residuals, aes(residual)) +\\n    # Add a density curve\\n    geom_density() +\\n    # Add a vertical line through zero\\n    geom_vline(xintercept = 0)\\n'.\nR error message: \"Error in transmute(., residual = predicted - actual) : \\nCaused by error:\\n! object 'actual' not found\"",
          "traceback": [
            "\u001b[0;31m---------------------------------------------------------------------------\u001b[0m",
            "\u001b[0;31mRRuntimeError\u001b[0m                             Traceback (most recent call last)",
            "\u001b[0;32m/usr/local/lib/python3.10/dist-packages/rpy2/ipython/rmagic.py\u001b[0m in \u001b[0;36meval\u001b[0;34m(self, code)\u001b[0m\n\u001b[1;32m    279\u001b[0m                 \u001b[0;31m# Need the newline in case the last line in code is a comment.\u001b[0m\u001b[0;34m\u001b[0m\u001b[0;34m\u001b[0m\u001b[0m\n\u001b[0;32m--> 280\u001b[0;31m                 \u001b[0mvalue\u001b[0m\u001b[0;34m,\u001b[0m \u001b[0mvisible\u001b[0m \u001b[0;34m=\u001b[0m \u001b[0mro\u001b[0m\u001b[0;34m.\u001b[0m\u001b[0mr\u001b[0m\u001b[0;34m(\u001b[0m\u001b[0;34m\"withVisible({%s\\n})\"\u001b[0m \u001b[0;34m%\u001b[0m \u001b[0mcode\u001b[0m\u001b[0;34m)\u001b[0m\u001b[0;34m\u001b[0m\u001b[0;34m\u001b[0m\u001b[0m\n\u001b[0m\u001b[1;32m    281\u001b[0m             \u001b[0;32mexcept\u001b[0m \u001b[0;34m(\u001b[0m\u001b[0mri\u001b[0m\u001b[0;34m.\u001b[0m\u001b[0membedded\u001b[0m\u001b[0;34m.\u001b[0m\u001b[0mRRuntimeError\u001b[0m\u001b[0;34m,\u001b[0m \u001b[0mValueError\u001b[0m\u001b[0;34m)\u001b[0m \u001b[0;32mas\u001b[0m \u001b[0mexception\u001b[0m\u001b[0;34m:\u001b[0m\u001b[0;34m\u001b[0m\u001b[0;34m\u001b[0m\u001b[0m\n",
            "\u001b[0;32m/usr/local/lib/python3.10/dist-packages/rpy2/robjects/__init__.py\u001b[0m in \u001b[0;36m__call__\u001b[0;34m(self, string)\u001b[0m\n\u001b[1;32m    450\u001b[0m         \u001b[0mp\u001b[0m \u001b[0;34m=\u001b[0m \u001b[0mrinterface\u001b[0m\u001b[0;34m.\u001b[0m\u001b[0mparse\u001b[0m\u001b[0;34m(\u001b[0m\u001b[0mstring\u001b[0m\u001b[0;34m)\u001b[0m\u001b[0;34m\u001b[0m\u001b[0;34m\u001b[0m\u001b[0m\n\u001b[0;32m--> 451\u001b[0;31m         \u001b[0mres\u001b[0m \u001b[0;34m=\u001b[0m \u001b[0mself\u001b[0m\u001b[0;34m.\u001b[0m\u001b[0meval\u001b[0m\u001b[0;34m(\u001b[0m\u001b[0mp\u001b[0m\u001b[0;34m)\u001b[0m\u001b[0;34m\u001b[0m\u001b[0;34m\u001b[0m\u001b[0m\n\u001b[0m\u001b[1;32m    452\u001b[0m         \u001b[0;32mreturn\u001b[0m \u001b[0mconversion\u001b[0m\u001b[0;34m.\u001b[0m\u001b[0mrpy2py\u001b[0m\u001b[0;34m(\u001b[0m\u001b[0mres\u001b[0m\u001b[0;34m)\u001b[0m\u001b[0;34m\u001b[0m\u001b[0;34m\u001b[0m\u001b[0m\n",
            "\u001b[0;32m/usr/local/lib/python3.10/dist-packages/rpy2/robjects/functions.py\u001b[0m in \u001b[0;36m__call__\u001b[0;34m(self, *args, **kwargs)\u001b[0m\n\u001b[1;32m    200\u001b[0m                 \u001b[0mkwargs\u001b[0m\u001b[0;34m[\u001b[0m\u001b[0mr_k\u001b[0m\u001b[0;34m]\u001b[0m \u001b[0;34m=\u001b[0m \u001b[0mv\u001b[0m\u001b[0;34m\u001b[0m\u001b[0;34m\u001b[0m\u001b[0m\n\u001b[0;32m--> 201\u001b[0;31m         return (super(SignatureTranslatedFunction, self)\n\u001b[0m\u001b[1;32m    202\u001b[0m                 .__call__(*args, **kwargs))\n",
            "\u001b[0;32m/usr/local/lib/python3.10/dist-packages/rpy2/robjects/functions.py\u001b[0m in \u001b[0;36m__call__\u001b[0;34m(self, *args, **kwargs)\u001b[0m\n\u001b[1;32m    123\u001b[0m                 \u001b[0mnew_kwargs\u001b[0m\u001b[0;34m[\u001b[0m\u001b[0mk\u001b[0m\u001b[0;34m]\u001b[0m \u001b[0;34m=\u001b[0m \u001b[0mconversion\u001b[0m\u001b[0;34m.\u001b[0m\u001b[0mpy2rpy\u001b[0m\u001b[0;34m(\u001b[0m\u001b[0mv\u001b[0m\u001b[0;34m)\u001b[0m\u001b[0;34m\u001b[0m\u001b[0;34m\u001b[0m\u001b[0m\n\u001b[0;32m--> 124\u001b[0;31m         \u001b[0mres\u001b[0m \u001b[0;34m=\u001b[0m \u001b[0msuper\u001b[0m\u001b[0;34m(\u001b[0m\u001b[0mFunction\u001b[0m\u001b[0;34m,\u001b[0m \u001b[0mself\u001b[0m\u001b[0;34m)\u001b[0m\u001b[0;34m.\u001b[0m\u001b[0m__call__\u001b[0m\u001b[0;34m(\u001b[0m\u001b[0;34m*\u001b[0m\u001b[0mnew_args\u001b[0m\u001b[0;34m,\u001b[0m \u001b[0;34m**\u001b[0m\u001b[0mnew_kwargs\u001b[0m\u001b[0;34m)\u001b[0m\u001b[0;34m\u001b[0m\u001b[0;34m\u001b[0m\u001b[0m\n\u001b[0m\u001b[1;32m    125\u001b[0m         \u001b[0mres\u001b[0m \u001b[0;34m=\u001b[0m \u001b[0mconversion\u001b[0m\u001b[0;34m.\u001b[0m\u001b[0mrpy2py\u001b[0m\u001b[0;34m(\u001b[0m\u001b[0mres\u001b[0m\u001b[0;34m)\u001b[0m\u001b[0;34m\u001b[0m\u001b[0;34m\u001b[0m\u001b[0m\n",
            "\u001b[0;32m/usr/local/lib/python3.10/dist-packages/rpy2/rinterface_lib/conversion.py\u001b[0m in \u001b[0;36m_\u001b[0;34m(*args, **kwargs)\u001b[0m\n\u001b[1;32m     44\u001b[0m     \u001b[0;32mdef\u001b[0m \u001b[0m_\u001b[0m\u001b[0;34m(\u001b[0m\u001b[0;34m*\u001b[0m\u001b[0margs\u001b[0m\u001b[0;34m,\u001b[0m \u001b[0;34m**\u001b[0m\u001b[0mkwargs\u001b[0m\u001b[0;34m)\u001b[0m\u001b[0;34m:\u001b[0m\u001b[0;34m\u001b[0m\u001b[0;34m\u001b[0m\u001b[0m\n\u001b[0;32m---> 45\u001b[0;31m         \u001b[0mcdata\u001b[0m \u001b[0;34m=\u001b[0m \u001b[0mfunction\u001b[0m\u001b[0;34m(\u001b[0m\u001b[0;34m*\u001b[0m\u001b[0margs\u001b[0m\u001b[0;34m,\u001b[0m \u001b[0;34m**\u001b[0m\u001b[0mkwargs\u001b[0m\u001b[0;34m)\u001b[0m\u001b[0;34m\u001b[0m\u001b[0;34m\u001b[0m\u001b[0m\n\u001b[0m\u001b[1;32m     46\u001b[0m         \u001b[0;31m# TODO: test cdata is of the expected CType\u001b[0m\u001b[0;34m\u001b[0m\u001b[0;34m\u001b[0m\u001b[0m\n",
            "\u001b[0;32m/usr/local/lib/python3.10/dist-packages/rpy2/rinterface.py\u001b[0m in \u001b[0;36m__call__\u001b[0;34m(self, *args, **kwargs)\u001b[0m\n\u001b[1;32m    809\u001b[0m             \u001b[0;32mif\u001b[0m \u001b[0merror_occured\u001b[0m\u001b[0;34m[\u001b[0m\u001b[0;36m0\u001b[0m\u001b[0;34m]\u001b[0m\u001b[0;34m:\u001b[0m\u001b[0;34m\u001b[0m\u001b[0;34m\u001b[0m\u001b[0m\n\u001b[0;32m--> 810\u001b[0;31m                 \u001b[0;32mraise\u001b[0m \u001b[0membedded\u001b[0m\u001b[0;34m.\u001b[0m\u001b[0mRRuntimeError\u001b[0m\u001b[0;34m(\u001b[0m\u001b[0m_rinterface\u001b[0m\u001b[0;34m.\u001b[0m\u001b[0m_geterrmessage\u001b[0m\u001b[0;34m(\u001b[0m\u001b[0;34m)\u001b[0m\u001b[0;34m)\u001b[0m\u001b[0;34m\u001b[0m\u001b[0;34m\u001b[0m\u001b[0m\n\u001b[0m\u001b[1;32m    811\u001b[0m         \u001b[0;32mreturn\u001b[0m \u001b[0mres\u001b[0m\u001b[0;34m\u001b[0m\u001b[0;34m\u001b[0m\u001b[0m\n",
            "\u001b[0;31mRRuntimeError\u001b[0m: Error in transmute(., residual = predicted - actual) : \nCaused by error:\n! object 'actual' not found\n",
            "\nDuring handling of the above exception, another exception occurred:\n",
            "\u001b[0;31mRInterpreterError\u001b[0m                         Traceback (most recent call last)",
            "\u001b[0;32m<ipython-input-45-315d814d38fc>\u001b[0m in \u001b[0;36m<cell line: 1>\u001b[0;34m()\u001b[0m\n\u001b[0;32m----> 1\u001b[0;31m \u001b[0mget_ipython\u001b[0m\u001b[0;34m(\u001b[0m\u001b[0;34m)\u001b[0m\u001b[0;34m.\u001b[0m\u001b[0mrun_cell_magic\u001b[0m\u001b[0;34m(\u001b[0m\u001b[0;34m'R'\u001b[0m\u001b[0;34m,\u001b[0m \u001b[0;34m''\u001b[0m\u001b[0;34m,\u001b[0m \u001b[0;34m'\\nlibrary(ggplot2)\\n\\n# responses has been pre-defined\\nresponses\\n\\n# Draw a scatterplot of predicted vs. actual\\nggplot(responses, aes(actual, predicted)) +\\n  # Add the points\\n  geom_point(alpha=0.1) +\\n  # Add a line at actual = predicted\\n  geom_abline(intercept=0, slope=1)\\n\\nresiduals <- responses %>%\\n  # Transmute response data to residuals\\n  transmute(residual= predicted - actual)\\n\\n# Draw a density plot of residuals\\nggplot(residuals, aes(residual)) +\\n    # Add a density curve\\n    geom_density() +\\n    # Add a vertical line through zero\\n    geom_vline(xintercept = 0)\\n'\u001b[0m\u001b[0;34m)\u001b[0m\u001b[0;34m\u001b[0m\u001b[0;34m\u001b[0m\u001b[0m\n\u001b[0m",
            "\u001b[0;32m/usr/local/lib/python3.10/dist-packages/google/colab/_shell.py\u001b[0m in \u001b[0;36mrun_cell_magic\u001b[0;34m(self, magic_name, line, cell)\u001b[0m\n\u001b[1;32m    332\u001b[0m     \u001b[0;32mif\u001b[0m \u001b[0mline\u001b[0m \u001b[0;32mand\u001b[0m \u001b[0;32mnot\u001b[0m \u001b[0mcell\u001b[0m\u001b[0;34m:\u001b[0m\u001b[0;34m\u001b[0m\u001b[0;34m\u001b[0m\u001b[0m\n\u001b[1;32m    333\u001b[0m       \u001b[0mcell\u001b[0m \u001b[0;34m=\u001b[0m \u001b[0;34m' '\u001b[0m\u001b[0;34m\u001b[0m\u001b[0;34m\u001b[0m\u001b[0m\n\u001b[0;32m--> 334\u001b[0;31m     \u001b[0;32mreturn\u001b[0m \u001b[0msuper\u001b[0m\u001b[0;34m(\u001b[0m\u001b[0;34m)\u001b[0m\u001b[0;34m.\u001b[0m\u001b[0mrun_cell_magic\u001b[0m\u001b[0;34m(\u001b[0m\u001b[0mmagic_name\u001b[0m\u001b[0;34m,\u001b[0m \u001b[0mline\u001b[0m\u001b[0;34m,\u001b[0m \u001b[0mcell\u001b[0m\u001b[0;34m)\u001b[0m\u001b[0;34m\u001b[0m\u001b[0;34m\u001b[0m\u001b[0m\n\u001b[0m\u001b[1;32m    335\u001b[0m \u001b[0;34m\u001b[0m\u001b[0m\n\u001b[1;32m    336\u001b[0m \u001b[0;34m\u001b[0m\u001b[0m\n",
            "\u001b[0;32m/usr/local/lib/python3.10/dist-packages/IPython/core/interactiveshell.py\u001b[0m in \u001b[0;36mrun_cell_magic\u001b[0;34m(self, magic_name, line, cell)\u001b[0m\n\u001b[1;32m   2471\u001b[0m             \u001b[0;32mwith\u001b[0m \u001b[0mself\u001b[0m\u001b[0;34m.\u001b[0m\u001b[0mbuiltin_trap\u001b[0m\u001b[0;34m:\u001b[0m\u001b[0;34m\u001b[0m\u001b[0;34m\u001b[0m\u001b[0m\n\u001b[1;32m   2472\u001b[0m                 \u001b[0margs\u001b[0m \u001b[0;34m=\u001b[0m \u001b[0;34m(\u001b[0m\u001b[0mmagic_arg_s\u001b[0m\u001b[0;34m,\u001b[0m \u001b[0mcell\u001b[0m\u001b[0;34m)\u001b[0m\u001b[0;34m\u001b[0m\u001b[0;34m\u001b[0m\u001b[0m\n\u001b[0;32m-> 2473\u001b[0;31m                 \u001b[0mresult\u001b[0m \u001b[0;34m=\u001b[0m \u001b[0mfn\u001b[0m\u001b[0;34m(\u001b[0m\u001b[0;34m*\u001b[0m\u001b[0margs\u001b[0m\u001b[0;34m,\u001b[0m \u001b[0;34m**\u001b[0m\u001b[0mkwargs\u001b[0m\u001b[0;34m)\u001b[0m\u001b[0;34m\u001b[0m\u001b[0;34m\u001b[0m\u001b[0m\n\u001b[0m\u001b[1;32m   2474\u001b[0m             \u001b[0;32mreturn\u001b[0m \u001b[0mresult\u001b[0m\u001b[0;34m\u001b[0m\u001b[0;34m\u001b[0m\u001b[0m\n\u001b[1;32m   2475\u001b[0m \u001b[0;34m\u001b[0m\u001b[0m\n",
            "\u001b[0;32m<decorator-gen-160>\u001b[0m in \u001b[0;36mR\u001b[0;34m(self, line, cell, local_ns)\u001b[0m\n",
            "\u001b[0;32m/usr/local/lib/python3.10/dist-packages/IPython/core/magic.py\u001b[0m in \u001b[0;36m<lambda>\u001b[0;34m(f, *a, **k)\u001b[0m\n\u001b[1;32m    185\u001b[0m     \u001b[0;31m# but it's overkill for just that one bit of state.\u001b[0m\u001b[0;34m\u001b[0m\u001b[0;34m\u001b[0m\u001b[0m\n\u001b[1;32m    186\u001b[0m     \u001b[0;32mdef\u001b[0m \u001b[0mmagic_deco\u001b[0m\u001b[0;34m(\u001b[0m\u001b[0marg\u001b[0m\u001b[0;34m)\u001b[0m\u001b[0;34m:\u001b[0m\u001b[0;34m\u001b[0m\u001b[0;34m\u001b[0m\u001b[0m\n\u001b[0;32m--> 187\u001b[0;31m         \u001b[0mcall\u001b[0m \u001b[0;34m=\u001b[0m \u001b[0;32mlambda\u001b[0m \u001b[0mf\u001b[0m\u001b[0;34m,\u001b[0m \u001b[0;34m*\u001b[0m\u001b[0ma\u001b[0m\u001b[0;34m,\u001b[0m \u001b[0;34m**\u001b[0m\u001b[0mk\u001b[0m\u001b[0;34m:\u001b[0m \u001b[0mf\u001b[0m\u001b[0;34m(\u001b[0m\u001b[0;34m*\u001b[0m\u001b[0ma\u001b[0m\u001b[0;34m,\u001b[0m \u001b[0;34m**\u001b[0m\u001b[0mk\u001b[0m\u001b[0;34m)\u001b[0m\u001b[0;34m\u001b[0m\u001b[0;34m\u001b[0m\u001b[0m\n\u001b[0m\u001b[1;32m    188\u001b[0m \u001b[0;34m\u001b[0m\u001b[0m\n\u001b[1;32m    189\u001b[0m         \u001b[0;32mif\u001b[0m \u001b[0mcallable\u001b[0m\u001b[0;34m(\u001b[0m\u001b[0marg\u001b[0m\u001b[0;34m)\u001b[0m\u001b[0;34m:\u001b[0m\u001b[0;34m\u001b[0m\u001b[0;34m\u001b[0m\u001b[0m\n",
            "\u001b[0;32m/usr/local/lib/python3.10/dist-packages/rpy2/ipython/rmagic.py\u001b[0m in \u001b[0;36mR\u001b[0;34m(self, line, cell, local_ns)\u001b[0m\n\u001b[1;32m    793\u001b[0m             \u001b[0;32mif\u001b[0m \u001b[0;32mnot\u001b[0m \u001b[0me\u001b[0m\u001b[0;34m.\u001b[0m\u001b[0mstdout\u001b[0m\u001b[0;34m.\u001b[0m\u001b[0mendswith\u001b[0m\u001b[0;34m(\u001b[0m\u001b[0me\u001b[0m\u001b[0;34m.\u001b[0m\u001b[0merr\u001b[0m\u001b[0;34m)\u001b[0m\u001b[0;34m:\u001b[0m\u001b[0;34m\u001b[0m\u001b[0;34m\u001b[0m\u001b[0m\n\u001b[1;32m    794\u001b[0m                 \u001b[0mprint\u001b[0m\u001b[0;34m(\u001b[0m\u001b[0me\u001b[0m\u001b[0;34m.\u001b[0m\u001b[0merr\u001b[0m\u001b[0;34m)\u001b[0m\u001b[0;34m\u001b[0m\u001b[0;34m\u001b[0m\u001b[0m\n\u001b[0;32m--> 795\u001b[0;31m             \u001b[0;32mraise\u001b[0m \u001b[0me\u001b[0m\u001b[0;34m\u001b[0m\u001b[0;34m\u001b[0m\u001b[0m\n\u001b[0m\u001b[1;32m    796\u001b[0m         \u001b[0;32mfinally\u001b[0m\u001b[0;34m:\u001b[0m\u001b[0;34m\u001b[0m\u001b[0;34m\u001b[0m\u001b[0m\n\u001b[1;32m    797\u001b[0m             \u001b[0;32mif\u001b[0m \u001b[0mself\u001b[0m\u001b[0;34m.\u001b[0m\u001b[0mdevice\u001b[0m \u001b[0;32min\u001b[0m \u001b[0;34m[\u001b[0m\u001b[0;34m'png'\u001b[0m\u001b[0;34m,\u001b[0m \u001b[0;34m'svg'\u001b[0m\u001b[0;34m]\u001b[0m\u001b[0;34m:\u001b[0m\u001b[0;34m\u001b[0m\u001b[0;34m\u001b[0m\u001b[0m\n",
            "\u001b[0;32m/usr/local/lib/python3.10/dist-packages/rpy2/ipython/rmagic.py\u001b[0m in \u001b[0;36mR\u001b[0;34m(self, line, cell, local_ns)\u001b[0m\n\u001b[1;32m    773\u001b[0m                     \u001b[0mreturn_output\u001b[0m \u001b[0;34m=\u001b[0m \u001b[0;32mFalse\u001b[0m\u001b[0;34m\u001b[0m\u001b[0;34m\u001b[0m\u001b[0m\n\u001b[1;32m    774\u001b[0m             \u001b[0;32melse\u001b[0m\u001b[0;34m:\u001b[0m\u001b[0;34m\u001b[0m\u001b[0;34m\u001b[0m\u001b[0m\n\u001b[0;32m--> 775\u001b[0;31m                 \u001b[0mtext_result\u001b[0m\u001b[0;34m,\u001b[0m \u001b[0mresult\u001b[0m\u001b[0;34m,\u001b[0m \u001b[0mvisible\u001b[0m \u001b[0;34m=\u001b[0m \u001b[0mself\u001b[0m\u001b[0;34m.\u001b[0m\u001b[0meval\u001b[0m\u001b[0;34m(\u001b[0m\u001b[0mcode\u001b[0m\u001b[0;34m)\u001b[0m\u001b[0;34m\u001b[0m\u001b[0;34m\u001b[0m\u001b[0m\n\u001b[0m\u001b[1;32m    776\u001b[0m                 \u001b[0mtext_output\u001b[0m \u001b[0;34m+=\u001b[0m \u001b[0mtext_result\u001b[0m\u001b[0;34m\u001b[0m\u001b[0;34m\u001b[0m\u001b[0m\n\u001b[1;32m    777\u001b[0m                 \u001b[0;32mif\u001b[0m \u001b[0mvisible\u001b[0m\u001b[0;34m:\u001b[0m\u001b[0;34m\u001b[0m\u001b[0;34m\u001b[0m\u001b[0m\n",
            "\u001b[0;32m/usr/local/lib/python3.10/dist-packages/rpy2/ipython/rmagic.py\u001b[0m in \u001b[0;36meval\u001b[0;34m(self, code)\u001b[0m\n\u001b[1;32m    282\u001b[0m                 \u001b[0;31m# Otherwise next return seems to have copy of error.\u001b[0m\u001b[0;34m\u001b[0m\u001b[0;34m\u001b[0m\u001b[0m\n\u001b[1;32m    283\u001b[0m                 \u001b[0mwarning_or_other_msg\u001b[0m \u001b[0;34m=\u001b[0m \u001b[0mself\u001b[0m\u001b[0;34m.\u001b[0m\u001b[0mflush\u001b[0m\u001b[0;34m(\u001b[0m\u001b[0;34m)\u001b[0m\u001b[0;34m\u001b[0m\u001b[0;34m\u001b[0m\u001b[0m\n\u001b[0;32m--> 284\u001b[0;31m                 raise RInterpreterError(code, str(exception),\n\u001b[0m\u001b[1;32m    285\u001b[0m                                         warning_or_other_msg)\n\u001b[1;32m    286\u001b[0m             \u001b[0mtext_output\u001b[0m \u001b[0;34m=\u001b[0m \u001b[0mself\u001b[0m\u001b[0;34m.\u001b[0m\u001b[0mflush\u001b[0m\u001b[0;34m(\u001b[0m\u001b[0;34m)\u001b[0m\u001b[0;34m\u001b[0m\u001b[0;34m\u001b[0m\u001b[0m\n",
            "\u001b[0;31mRInterpreterError\u001b[0m: Failed to parse and evaluate line '\\nlibrary(ggplot2)\\n\\n# responses has been pre-defined\\nresponses\\n\\n# Draw a scatterplot of predicted vs. actual\\nggplot(responses, aes(actual, predicted)) +\\n  # Add the points\\n  geom_point(alpha=0.1) +\\n  # Add a line at actual = predicted\\n  geom_abline(intercept=0, slope=1)\\n\\nresiduals <- responses %>%\\n  # Transmute response data to residuals\\n  transmute(residual= predicted - actual)\\n\\n# Draw a density plot of residuals\\nggplot(residuals, aes(residual)) +\\n    # Add a density curve\\n    geom_density() +\\n    # Add a vertical line through zero\\n    geom_vline(xintercept = 0)\\n'.\nR error message: \"Error in transmute(., residual = predicted - actual) : \\nCaused by error:\\n! object 'actual' not found\""
          ]
        }
      ],
      "source": [
        "%%R\n",
        "\n",
        "library(ggplot2)\n",
        "\n",
        "# responses has been pre-defined\n",
        "responses\n",
        "\n",
        "# Draw a scatterplot of predicted vs. actual\n",
        "ggplot(responses, aes(actual, predicted)) +\n",
        "  # Add the points\n",
        "  geom_point(alpha=0.1) +\n",
        "  # Add a line at actual = predicted\n",
        "  geom_abline(intercept=0, slope=1)\n",
        "\n",
        "residuals <- responses %>%\n",
        "  # Transmute response data to residuals\n",
        "  transmute(residual= predicted - actual)\n",
        "\n",
        "# Draw a density plot of residuals\n",
        "ggplot(residuals, aes(residual)) +\n",
        "    # Add a density curve\n",
        "    geom_density() +\n",
        "    # Add a vertical line through zero\n",
        "    geom_vline(xintercept = 0)"
      ]
    },
    {
      "cell_type": "markdown",
      "metadata": {
        "id": "q2De_enNWYor"
      },
      "source": [
        "![download (1).png](data:image/png;base64,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)"
      ]
    },
    {
      "cell_type": "markdown",
      "metadata": {
        "id": "7kQT-IfbWS6a"
      },
      "source": [
        "![download.png](data:image/png;base64,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)"
      ]
    },
    {
      "cell_type": "markdown",
      "metadata": {
        "id": "d_b82xxBWfHJ"
      },
      "source": [
        "# Random Forest: modeling\n"
      ]
    },
    {
      "cell_type": "code",
      "execution_count": 41,
      "metadata": {
        "id": "0RcNHw_wHusF"
      },
      "outputs": [],
      "source": [
        "%%R\n",
        "\n",
        "# track_data_to_model_tbl has been pre-defined\n",
        "track_data_to_model_tbl\n",
        "\n",
        "# Get the timbre columns\n",
        "feature_colnames <- track_data_to_model_tbl %>%\n",
        "    colnames() %>%\n",
        "    str_subset(fixed(\"timbre\"))\n",
        "# Create the formula for the model\n",
        "year_formula <- reformulate(termlabels= feature_colnames,\n",
        "                            response = \"year\")\n",
        "\n",
        "# Run the random forest model\n",
        "random_forest_model <- track_data_to_model_tbl %>%\n",
        "    ml_random_forest(year_formula)"
      ]
    },
    {
      "cell_type": "markdown",
      "metadata": {
        "id": "6WY47vTNX2In"
      },
      "source": [
        "# Random Forest: prediction\n"
      ]
    },
    {
      "cell_type": "code",
      "execution_count": 42,
      "metadata": {
        "id": "4OCiHDZEHuvV"
      },
      "outputs": [],
      "source": [
        "%%R\n",
        "\n",
        "# Training, testing sets & model are pre-defined\n",
        "track_data_to_model_tbl\n",
        "track_data_to_predict_tbl\n",
        "random_forest_model\n",
        "\n",
        "# Predict the responses for the testing data\n",
        "predicted <- ml_predict(\n",
        "      random_forest_model,\n",
        "      track_data_to_predict_tbl) %>% pull(prediction)\n",
        "\n",
        "# Create a response vs. actual dataset\n",
        "responses <- track_data_to_predict_tbl %>%\n",
        "      select(year) %>%\n",
        "      collect() %>%\n",
        "      mutate(predicted)"
      ]
    },
    {
      "cell_type": "code",
      "source": [
        "%%R\n",
        "responses"
      ],
      "metadata": {
        "colab": {
          "base_uri": "https://localhost:8080/"
        },
        "id": "n7gtk_IVCGWW",
        "outputId": "5d0174c3-da53-49ce-be67-bb28d1d5c890"
      },
      "execution_count": 43,
      "outputs": [
        {
          "output_type": "stream",
          "name": "stdout",
          "text": [
            "# A tibble: 29 × 2\n",
            "    year predicted\n",
            "   <dbl>     <dbl>\n",
            " 1  1945     1949.\n",
            " 2  1949     1947.\n",
            " 3  1937     1939.\n",
            " 4  1939     1938.\n",
            " 5  1949     1944.\n",
            " 6  1949     1944.\n",
            " 7  1947     1940.\n",
            " 8  1938     1944.\n",
            " 9  1935     1939.\n",
            "10  1960     1946.\n",
            "# ℹ 19 more rows\n",
            "# ℹ Use `print(n = ...)` to see more rows\n"
          ]
        }
      ]
    },
    {
      "cell_type": "markdown",
      "metadata": {
        "id": "F153LmFAYh8o"
      },
      "source": [
        "# Random Forest: visualization\n"
      ]
    },
    {
      "cell_type": "code",
      "execution_count": null,
      "metadata": {
        "id": "C7M1kDzZ2RJd"
      },
      "outputs": [],
      "source": [
        "%%R\n",
        "\n",
        "# both_responses has been pre-defined\n",
        "both_responses\n",
        "\n",
        "# Draw a scatterplot of predicted vs. actual\n",
        "ggplot(both_responses, aes(actual, predicted, color=model)) +\n",
        "  # Add a smoothed line\n",
        "  geom_smooth() +\n",
        "  # Add a line at actual = predicted\n",
        "  geom_abline(intercept = 0, slope = 1)\n",
        "\n",
        "# Create a tibble of residuals\n",
        "residuals <- both_responses %>%\n",
        "mutate(residual=predicted-actual)\n",
        "\n",
        "# Draw a density plot of residuals\n",
        "ggplot(residuals, aes(residual, color=model)) +\n",
        "    # Add a density curve\n",
        "    geom_density() +\n",
        "    # Add a vertical line through zero\n",
        "    geom_vline(xintercept = 0)"
      ]
    },
    {
      "cell_type": "markdown",
      "metadata": {
        "id": "AmB6n8eGZHDm"
      },
      "source": [
        "![download (2).png](data:image/png;base64,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)"
      ]
    },
    {
      "cell_type": "markdown",
      "metadata": {
        "id": "GndMOj1GZJkk"
      },
      "source": [
        "![download (3).png](data:image/png;base64,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)"
      ]
    },
    {
      "cell_type": "markdown",
      "metadata": {
        "id": "xhXtT22BZsWn"
      },
      "source": [
        "# Comparing model performance\n",
        "Plotting gives you a nice feel for where the model performs well, and where it doesn't. Sometimes it is nice to have a statistic that gives you a score for the model. This way you can quantify how good a model is, and make comparisons across lots of models. A common statistic is the root mean square error (sometimes abbreviated to \"RMSE\"), which simply squares the residuals, then takes the mean, then the square root. A small RMSE score for a given dataset implies a better prediction. (By default, you can't compare between different datasets, only different models on the same dataset. Sometimes it is possible to normalize the datasets to provide a comparison between them.)\n",
        "\n",
        "Here you'll compare the gradient boosted trees and random forest models.\n",
        "\n",
        "## Instructions\n",
        "\n",
        "both_responses, containing the predicted and actual year of the track from both models, has been pre-defined as a local tibble.\n",
        "* Create a sum of squares of residuals dataset.\n",
        "  * Add a residual column, equal to the predicted response minus the actual response.\n",
        "  * Group the data by model.\n",
        "  * Calculate a summary statistic, rmse, equal to the square root of the mean of the residuals squared."
      ]
    },
    {
      "cell_type": "code",
      "execution_count": null,
      "metadata": {
        "id": "REgOJm-5ZflF"
      },
      "outputs": [],
      "source": [
        "# both_responses has been pre-defined\n",
        "both_responses\n",
        "\n",
        "# Create a residual sum of squares dataset\n",
        "both_responses %>%\n",
        "    mutate(residual=predicted-actual) %>%\n",
        "    group_by(model) %>%\n",
        "    summarize(rmse =  sqrt(mean(residual^2)))"
      ]
    },
    {
      "cell_type": "code",
      "execution_count": null,
      "metadata": {
        "id": "7WTdO10rZfoL"
      },
      "outputs": [],
      "source": []
    },
    {
      "cell_type": "code",
      "execution_count": null,
      "metadata": {
        "id": "TmmuDk8WZfq1"
      },
      "outputs": [],
      "source": []
    }
  ],
  "metadata": {
    "colab": {
      "provenance": [],
      "authorship_tag": "ABX9TyP8CH1PY6URQio+kTp/0766",
      "include_colab_link": true
    },
    "kernelspec": {
      "display_name": "Python 3",
      "name": "python3"
    },
    "language_info": {
      "name": "python"
    }
  },
  "nbformat": 4,
  "nbformat_minor": 0
}